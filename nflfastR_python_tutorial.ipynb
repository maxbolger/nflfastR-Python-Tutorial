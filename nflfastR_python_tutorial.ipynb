{
  "nbformat": 4,
  "nbformat_minor": 0,
  "metadata": {
    "colab": {
      "name": "nflfastR-python.ipynb",
      "provenance": [],
      "collapsed_sections": [
        "lAZtwHPRwkeQ"
      ]
    },
    "kernelspec": {
      "name": "python3",
      "display_name": "Python 3"
    }
  },
  "cells": [
    {
      "cell_type": "markdown",
      "metadata": {
        "id": "cisADfmoMS4f"
      },
      "source": [
        "#nflfastR tutorial - Python\n",
        "[<img align=\"left\" alt=\"nflfastR\" width=\"75px\" src=\"https://www.nflfastr.com/reference/figures/logo.png\" />][nflfastR] \n",
        "[<img align=\"left\" alt=\"Python\" width=\"75px\" src=\"https://external-content.duckduckgo.com/iu/?u=https%3A%2F%2Fcode.fb.com%2Fwp-content%2Fuploads%2F2016%2F05%2F2000px-Python-logo-notext.svg_.png&f=1&nofb=1\" />][Python]\n",
        "\n",
        "\n",
        "<br/>\n",
        "<br/>\n",
        "<br/>\n",
        "<br/>\n",
        "\n",
        "\n",
        "####**By: [@mnpykings](https://twitter.com/mnpykings), 2020**\n",
        "\n",
        "<br/>\n",
        "\n",
        "*Right click icons and links throughout to direct you to their respective sites!*\n",
        "\n",
        "[nflfastR]: https://mrcaseb.github.io/nflfastR/\n",
        "[Python]: https://www.python.org/ "
      ]
    },
    {
      "cell_type": "markdown",
      "metadata": {
        "id": "6OhgButFMnGh"
      },
      "source": [
        "#Introduction + Shoutouts\n",
        "\n",
        "Hey everyone! Before we get started, I want to give some very deserving shoutouts. First off, [Ben Baldwin](https://twitter.com/benbbaldwin) and [Sebastian Carl](https://twitter.com/mrcaseb) do an incredible job maintaining this package and the NFL play-by-play data; they are really pioneering public analytics by lowering the barrier to entry with their content.  \n",
        "\n",
        "Next, I'd like to shoutout [Deryck](https://twitter.com/DeryckG_). He has an awesome python guide for nflfastR as well and I will be using some of his code snippets (I'll mention when I do so). I'm creating this tutorial to go along with his because I figured the more open source the merrier. To keep things fresh, this tutorial will focus on leveraging the data for Fantasy Football/DFS applications rather than general NFL analytics which he covers in [his tutorial](https://gist.github.com/Deryck97/dff8d33e9f841568201a2a0d5519ac5e).\n",
        "\n",
        "With all of that being said, let's hop right into it! I use [Google Colab](https://colab.research.google.com/notebooks/intro.ipynb#scrollTo=5fCEDCU_qrC0) for my coding and that is what I encourage you to use as well. Google Colab is a tool that allows users to write, run, and share code within a single document on Google Drive. It hosts a cloud-based runtime, meaning that the only things you need to start coding in python are a Google account and an internet connection. No IDE, no virtual environments, and no installing packages (for the most part). Just open a document and start coding!"
      ]
    },
    {
      "cell_type": "markdown",
      "metadata": {
        "id": "gzvPhg3RO4KR"
      },
      "source": [
        "#Part 1 - Importing Packages and Scraping the Data\n",
        "\n",
        "##Importing Packages\n",
        "Since Google Colab hosts a cloud based run-time, we can start using python and its packages with no prior set up. However, in order to utilize these pacakges, they must be imported to our notebook document. The following four packages are an absolute must when working with data in python; no analysis can be done without them. \n",
        "\n",
        " - [<img align=\"left\" alt=\"pandas\" width=\"150px\" src=\"https://pandas.pydata.org/docs/_static/pandas.svg\" />][pandas] This library provides easy-to-use data analysis and manipulation tools for python.\n",
        "\n",
        "<br/>\n",
        "\n",
        " - [<img align=\"left\" alt=\"matplotlib\" width=\"150px\" src=\"https://external-content.duckduckgo.com/iu/?u=https%3A%2F%2Fmatplotlib.org%2F_static%2Flogo2.png&f=1&nofb=1\" />][matplotlib] This is the basic plotting library for python that allows us to vizualize our data.\n",
        "\n",
        "<br/>\n",
        "\n",
        " - [<img align=\"left\" alt=\"Seaborn\" width=\"150px\" src=\"https://seaborn.pydata.org/_static/logo-wide-lightbg.svg\" />][Seaborn] Think of this as an attachment to matplotlib. We can utilize it to enhance our plots in a variety of ways.\n",
        "\n",
        "<br/>\n",
        "\n",
        " - [<img align=\"left\" alt=\"numpy\" width=\"150px\" src=\"https://external-content.duckduckgo.com/iu/?u=https%3A%2F%2Fupload.wikimedia.org%2Fwikipedia%2Fcommons%2Fthumb%2F3%2F31%2FNumPy_logo_2020.svg%2F1024px-NumPy_logo_2020.svg.png&f=1&nofb=1\" />][numpy] A python library used for mathematical operations and working with arrays (we will only use this a few times)\n",
        "\n",
        "<br/>\n",
        "<br/>\n",
        "\n",
        "We can import these packages with the following code:\n",
        "\n",
        "[Seaborn]: https://seaborn.pydata.org/#\n",
        "[matplotlib]: https://matplotlib.org/#\n",
        "[pandas]: https://pandas.pydata.org/docs/\n",
        "[numpy]: https://numpy.org/\n",
        "\n",
        "\n"
      ]
    },
    {
      "cell_type": "code",
      "metadata": {
        "id": "6UTEXD21Q_dx"
      },
      "source": [
        "import pandas as pd\n",
        "import matplotlib.pyplot as plt\n",
        "import seaborn as sns\n",
        "import numpy as np"
      ],
      "execution_count": 1,
      "outputs": []
    },
    {
      "cell_type": "markdown",
      "metadata": {
        "id": "upYbqQjmRMjz"
      },
      "source": [
        "*We use shorter aliases when importing these pacakges for qulity of life purposes. When calling a function from a package, we need to preface it with its alias. For example, having to type out ```matplotlib.pyplot.plot()``` every time you'd like to plot something is rather inconvenient as opposed to using the alias we assigned to it by typing ```plt.plot()```*."
      ]
    },
    {
      "cell_type": "markdown",
      "metadata": {
        "id": "SU36KaPjRg4f"
      },
      "source": [
        "##Scraping the data\n",
        "\n",
        "Now that we have our packages imported, we can scrape the play-by-play data (thanks to Deryck for this code!). Run the according cell depending on how many seasons of data you want. The pbp data goes back to 1999, but the first year that recorded all of the metrics we need was 2006, so I'd generally recommend not going earlier than that. For the purpose of this tutorial, I am going to use 2020 data only. We can do this by first assigning the season(s) we want to the variable `YEAR`. Then we read the data from the nflfastR [data repository](https://github.com/guga31bb/nflfastR-data/tree/master/data) to the pandas `.read_csv()` method and assign it to the variable `data`.\n",
        "\n",
        "*Notice here we are already using the* `pd` *ailias we gave to the pandas package, neat!*"
      ]
    },
    {
      "cell_type": "code",
      "metadata": {
        "id": "Wv9oGz7wMmp0"
      },
      "source": [
        "#Single season\n",
        "YEAR = 2020\n",
        "\n",
        "data = pd.read_csv(\n",
        "    'https://github.com/guga31bb/nflfastR-data/blob/master/data/play_by_play_' \\\n",
        "    + str(YEAR) + '.csv.gz?raw=True',compression='gzip', low_memory=False\n",
        "    )"
      ],
      "execution_count": 2,
      "outputs": []
    },
    {
      "cell_type": "code",
      "metadata": {
        "id": "6wSnClmYMD9h"
      },
      "source": [
        "# #Multiple seasons\n",
        "# YEARS = [2020,2019,2018]\n",
        "\n",
        "# data = pd.DataFrame()\n",
        "\n",
        "# for i in YEARS:  \n",
        "#   i_data = pd.read_csv(\n",
        "#       'https://github.com/guga31bb/nflfastR-data/blob/' \\\n",
        "#       'master/data/play_by_play_' + str(i) + '.csv.gz?raw=True',\n",
        "#       compression='gzip', low_memory=False\n",
        "#       )\n",
        "  \n",
        "#   data = data.append(i_data, sort=True)"
      ],
      "execution_count": 20,
      "outputs": []
    },
    {
      "cell_type": "markdown",
      "metadata": {
        "id": "GII3huYjPqTk"
      },
      "source": [
        "Awesome, now we have the data we want assigned to the variable `data` in the form of a pandas dataframe! A dataframe is very similar to a spreadsheet; it's two-dimensional tabular data. If you ever wish to save a dataframe that you're working on, you can use the pandas methods `.to_excel()` or `.to_csv()` depending on the format you prefer. For example, to save this pbp data as a .csv file, the following code will do the trick."
      ]
    },
    {
      "cell_type": "code",
      "metadata": {
        "id": "U5Od3oMNGYLI"
      },
      "source": [
        "data.to_csv('filename.csv')"
      ],
      "execution_count": null,
      "outputs": []
    },
    {
      "cell_type": "markdown",
      "metadata": {
        "id": "fKg3siqOT6aU"
      },
      "source": [
        "#Part 2 - Getting to Know the Data"
      ]
    },
    {
      "cell_type": "markdown",
      "metadata": {
        "id": "M_tVEM9Esnht"
      },
      "source": [
        "The necessary packages and data are all imported and ready to go, so now we can start doing some analysis with it! First, we will look at some pandas methods that we can leverage to familiarize ourselves with the data. Methods must be attached to an object (which is what we assign variables to), so every method we use must be prefaced with our `data`. I will explain some of these basic methods below."
      ]
    },
    {
      "cell_type": "code",
      "metadata": {
        "id": "ImXRPvj8r_yQ",
        "outputId": "dd2a1176-9376-443c-bcc0-8514f3e7c998",
        "colab": {
          "base_uri": "https://localhost:8080/",
          "height": 34
        }
      },
      "source": [
        "#.shape returns the shape of the dataframe\n",
        "#in the format (rows,columns)\n",
        "data.shape"
      ],
      "execution_count": 3,
      "outputs": [
        {
          "output_type": "execute_result",
          "data": {
            "text/plain": [
              "(11666, 340)"
            ]
          },
          "metadata": {
            "tags": []
          },
          "execution_count": 3
        }
      ]
    },
    {
      "cell_type": "code",
      "metadata": {
        "id": "XJIJDJASr7_X",
        "outputId": "aa9503fa-c051-4515-e54b-8a45e5cdafb5",
        "colab": {
          "base_uri": "https://localhost:8080/",
          "height": 123
        }
      },
      "source": [
        "#.columns prints out every column name, which\n",
        "#is super useful since this data has a ton of them\n",
        "data.columns"
      ],
      "execution_count": 4,
      "outputs": [
        {
          "output_type": "execute_result",
          "data": {
            "text/plain": [
              "Index(['play_id', 'game_id', 'old_game_id', 'home_team', 'away_team',\n",
              "       'season_type', 'week', 'posteam', 'posteam_type', 'defteam',\n",
              "       ...\n",
              "       'receiver_id', 'name', 'jersey_number', 'id', 'qb_epa', 'xyac_epa',\n",
              "       'xyac_mean_yardage', 'xyac_median_yardage', 'xyac_success', 'xyac_fd'],\n",
              "      dtype='object', length=340)"
            ]
          },
          "metadata": {
            "tags": []
          },
          "execution_count": 4
        }
      ]
    },
    {
      "cell_type": "markdown",
      "metadata": {
        "id": "S8oTdcQVWfCl"
      },
      "source": [
        "*Note that we can't see every column. If that's what you'd prefer, you can run `list(data)` to see every column one by one. I'm not going to do that here because it would take up a ton of space as it prints one per line.*"
      ]
    },
    {
      "cell_type": "code",
      "metadata": {
        "id": "oZokVKAZuYN_",
        "outputId": "df617470-6d20-4dc7-bfbc-831588ff7385",
        "colab": {
          "base_uri": "https://localhost:8080/",
          "height": 230
        }
      },
      "source": [
        "#.dtypes returns the datatype of every column\n",
        "data.dtypes"
      ],
      "execution_count": 5,
      "outputs": [
        {
          "output_type": "execute_result",
          "data": {
            "text/plain": [
              "play_id                  int64\n",
              "game_id                 object\n",
              "old_game_id              int64\n",
              "home_team               object\n",
              "away_team               object\n",
              "                        ...   \n",
              "xyac_epa               float64\n",
              "xyac_mean_yardage      float64\n",
              "xyac_median_yardage    float64\n",
              "xyac_success           float64\n",
              "xyac_fd                float64\n",
              "Length: 340, dtype: object"
            ]
          },
          "metadata": {
            "tags": []
          },
          "execution_count": 5
        }
      ]
    },
    {
      "cell_type": "markdown",
      "metadata": {
        "id": "8tPN4eTQXESr"
      },
      "source": [
        "Some of the most common pandas datatypes you will come across include:\n",
        "\n",
        "`object` - text or mixed numeric and non-numeric values\n",
        "\n",
        "`int64` - integer numbers\n",
        "\n",
        "`float64` - floating point (decimal) numbers\n",
        "\n",
        "`bool` - true/false values\n",
        "\n",
        "`datetime64` - date and time values"
      ]
    },
    {
      "cell_type": "code",
      "metadata": {
        "id": "2W7bVuyLsDI1",
        "outputId": "7d31f6ed-c093-462b-ef4d-e40c585f4254",
        "colab": {
          "base_uri": "https://localhost:8080/",
          "height": 370
        }
      },
      "source": [
        "#.head(n) prints out the first n rows of data\n",
        "#inversely, .tail(n) prints the last n rows\n",
        "#.sample(n) prints a random sample of n rows\n",
        "data.head(3)"
      ],
      "execution_count": 6,
      "outputs": [
        {
          "output_type": "execute_result",
          "data": {
            "text/html": [
              "<div>\n",
              "<style scoped>\n",
              "    .dataframe tbody tr th:only-of-type {\n",
              "        vertical-align: middle;\n",
              "    }\n",
              "\n",
              "    .dataframe tbody tr th {\n",
              "        vertical-align: top;\n",
              "    }\n",
              "\n",
              "    .dataframe thead th {\n",
              "        text-align: right;\n",
              "    }\n",
              "</style>\n",
              "<table border=\"1\" class=\"dataframe\">\n",
              "  <thead>\n",
              "    <tr style=\"text-align: right;\">\n",
              "      <th></th>\n",
              "      <th>play_id</th>\n",
              "      <th>game_id</th>\n",
              "      <th>old_game_id</th>\n",
              "      <th>home_team</th>\n",
              "      <th>away_team</th>\n",
              "      <th>season_type</th>\n",
              "      <th>week</th>\n",
              "      <th>posteam</th>\n",
              "      <th>posteam_type</th>\n",
              "      <th>defteam</th>\n",
              "      <th>side_of_field</th>\n",
              "      <th>yardline_100</th>\n",
              "      <th>game_date</th>\n",
              "      <th>quarter_seconds_remaining</th>\n",
              "      <th>half_seconds_remaining</th>\n",
              "      <th>game_seconds_remaining</th>\n",
              "      <th>game_half</th>\n",
              "      <th>quarter_end</th>\n",
              "      <th>drive</th>\n",
              "      <th>sp</th>\n",
              "      <th>qtr</th>\n",
              "      <th>down</th>\n",
              "      <th>goal_to_go</th>\n",
              "      <th>time</th>\n",
              "      <th>yrdln</th>\n",
              "      <th>ydstogo</th>\n",
              "      <th>ydsnet</th>\n",
              "      <th>desc</th>\n",
              "      <th>play_type</th>\n",
              "      <th>yards_gained</th>\n",
              "      <th>shotgun</th>\n",
              "      <th>no_huddle</th>\n",
              "      <th>qb_dropback</th>\n",
              "      <th>qb_kneel</th>\n",
              "      <th>qb_spike</th>\n",
              "      <th>qb_scramble</th>\n",
              "      <th>pass_length</th>\n",
              "      <th>pass_location</th>\n",
              "      <th>air_yards</th>\n",
              "      <th>yards_after_catch</th>\n",
              "      <th>...</th>\n",
              "      <th>home_score</th>\n",
              "      <th>location</th>\n",
              "      <th>result</th>\n",
              "      <th>total</th>\n",
              "      <th>spread_line</th>\n",
              "      <th>total_line</th>\n",
              "      <th>div_game</th>\n",
              "      <th>roof</th>\n",
              "      <th>surface</th>\n",
              "      <th>temp</th>\n",
              "      <th>wind</th>\n",
              "      <th>home_coach</th>\n",
              "      <th>away_coach</th>\n",
              "      <th>stadium_id</th>\n",
              "      <th>game_stadium</th>\n",
              "      <th>success</th>\n",
              "      <th>passer</th>\n",
              "      <th>passer_jersey_number</th>\n",
              "      <th>rusher</th>\n",
              "      <th>rusher_jersey_number</th>\n",
              "      <th>receiver</th>\n",
              "      <th>receiver_jersey_number</th>\n",
              "      <th>pass</th>\n",
              "      <th>rush</th>\n",
              "      <th>first_down</th>\n",
              "      <th>aborted_play</th>\n",
              "      <th>special</th>\n",
              "      <th>play</th>\n",
              "      <th>passer_id</th>\n",
              "      <th>rusher_id</th>\n",
              "      <th>receiver_id</th>\n",
              "      <th>name</th>\n",
              "      <th>jersey_number</th>\n",
              "      <th>id</th>\n",
              "      <th>qb_epa</th>\n",
              "      <th>xyac_epa</th>\n",
              "      <th>xyac_mean_yardage</th>\n",
              "      <th>xyac_median_yardage</th>\n",
              "      <th>xyac_success</th>\n",
              "      <th>xyac_fd</th>\n",
              "    </tr>\n",
              "  </thead>\n",
              "  <tbody>\n",
              "    <tr>\n",
              "      <th>0</th>\n",
              "      <td>1</td>\n",
              "      <td>2020_01_ARI_SF</td>\n",
              "      <td>2020091311</td>\n",
              "      <td>SF</td>\n",
              "      <td>ARI</td>\n",
              "      <td>REG</td>\n",
              "      <td>1</td>\n",
              "      <td>NaN</td>\n",
              "      <td>NaN</td>\n",
              "      <td>NaN</td>\n",
              "      <td>NaN</td>\n",
              "      <td>NaN</td>\n",
              "      <td>2020-09-13</td>\n",
              "      <td>900.0</td>\n",
              "      <td>1800.0</td>\n",
              "      <td>3600.0</td>\n",
              "      <td>Half1</td>\n",
              "      <td>0</td>\n",
              "      <td>NaN</td>\n",
              "      <td>0</td>\n",
              "      <td>1</td>\n",
              "      <td>NaN</td>\n",
              "      <td>0</td>\n",
              "      <td>15:00</td>\n",
              "      <td>ARI 35</td>\n",
              "      <td>0</td>\n",
              "      <td>NaN</td>\n",
              "      <td>GAME</td>\n",
              "      <td>NaN</td>\n",
              "      <td>NaN</td>\n",
              "      <td>0</td>\n",
              "      <td>0</td>\n",
              "      <td>NaN</td>\n",
              "      <td>0</td>\n",
              "      <td>0</td>\n",
              "      <td>0</td>\n",
              "      <td>NaN</td>\n",
              "      <td>NaN</td>\n",
              "      <td>NaN</td>\n",
              "      <td>NaN</td>\n",
              "      <td>...</td>\n",
              "      <td>20</td>\n",
              "      <td>Home</td>\n",
              "      <td>-4</td>\n",
              "      <td>44</td>\n",
              "      <td>7.0</td>\n",
              "      <td>48.5</td>\n",
              "      <td>1</td>\n",
              "      <td>outdoors</td>\n",
              "      <td>NaN</td>\n",
              "      <td>NaN</td>\n",
              "      <td>NaN</td>\n",
              "      <td>Kyle Shanahan</td>\n",
              "      <td>Kliff Kingsbury</td>\n",
              "      <td>SFO01</td>\n",
              "      <td>Levi's Stadium</td>\n",
              "      <td>NaN</td>\n",
              "      <td>NaN</td>\n",
              "      <td>NaN</td>\n",
              "      <td>NaN</td>\n",
              "      <td>NaN</td>\n",
              "      <td>NaN</td>\n",
              "      <td>NaN</td>\n",
              "      <td>0</td>\n",
              "      <td>0</td>\n",
              "      <td>NaN</td>\n",
              "      <td>0</td>\n",
              "      <td>0</td>\n",
              "      <td>0</td>\n",
              "      <td>NaN</td>\n",
              "      <td>NaN</td>\n",
              "      <td>NaN</td>\n",
              "      <td>NaN</td>\n",
              "      <td>NaN</td>\n",
              "      <td>NaN</td>\n",
              "      <td>NaN</td>\n",
              "      <td>NaN</td>\n",
              "      <td>NaN</td>\n",
              "      <td>NaN</td>\n",
              "      <td>NaN</td>\n",
              "      <td>NaN</td>\n",
              "    </tr>\n",
              "    <tr>\n",
              "      <th>1</th>\n",
              "      <td>39</td>\n",
              "      <td>2020_01_ARI_SF</td>\n",
              "      <td>2020091311</td>\n",
              "      <td>SF</td>\n",
              "      <td>ARI</td>\n",
              "      <td>REG</td>\n",
              "      <td>1</td>\n",
              "      <td>SF</td>\n",
              "      <td>home</td>\n",
              "      <td>ARI</td>\n",
              "      <td>ARI</td>\n",
              "      <td>35.0</td>\n",
              "      <td>2020-09-13</td>\n",
              "      <td>900.0</td>\n",
              "      <td>1800.0</td>\n",
              "      <td>3600.0</td>\n",
              "      <td>Half1</td>\n",
              "      <td>0</td>\n",
              "      <td>1.0</td>\n",
              "      <td>0</td>\n",
              "      <td>1</td>\n",
              "      <td>NaN</td>\n",
              "      <td>0</td>\n",
              "      <td>15:00</td>\n",
              "      <td>ARI 35</td>\n",
              "      <td>0</td>\n",
              "      <td>41.0</td>\n",
              "      <td>5-Z.Gonzalez kicks 65 yards from ARI 35 to end...</td>\n",
              "      <td>kickoff</td>\n",
              "      <td>0.0</td>\n",
              "      <td>0</td>\n",
              "      <td>0</td>\n",
              "      <td>0.0</td>\n",
              "      <td>0</td>\n",
              "      <td>0</td>\n",
              "      <td>0</td>\n",
              "      <td>NaN</td>\n",
              "      <td>NaN</td>\n",
              "      <td>NaN</td>\n",
              "      <td>NaN</td>\n",
              "      <td>...</td>\n",
              "      <td>20</td>\n",
              "      <td>Home</td>\n",
              "      <td>-4</td>\n",
              "      <td>44</td>\n",
              "      <td>7.0</td>\n",
              "      <td>48.5</td>\n",
              "      <td>1</td>\n",
              "      <td>outdoors</td>\n",
              "      <td>NaN</td>\n",
              "      <td>NaN</td>\n",
              "      <td>NaN</td>\n",
              "      <td>Kyle Shanahan</td>\n",
              "      <td>Kliff Kingsbury</td>\n",
              "      <td>SFO01</td>\n",
              "      <td>Levi's Stadium</td>\n",
              "      <td>0.0</td>\n",
              "      <td>NaN</td>\n",
              "      <td>NaN</td>\n",
              "      <td>NaN</td>\n",
              "      <td>NaN</td>\n",
              "      <td>NaN</td>\n",
              "      <td>NaN</td>\n",
              "      <td>0</td>\n",
              "      <td>0</td>\n",
              "      <td>0.0</td>\n",
              "      <td>0</td>\n",
              "      <td>1</td>\n",
              "      <td>0</td>\n",
              "      <td>NaN</td>\n",
              "      <td>NaN</td>\n",
              "      <td>NaN</td>\n",
              "      <td>NaN</td>\n",
              "      <td>NaN</td>\n",
              "      <td>NaN</td>\n",
              "      <td>0.000000</td>\n",
              "      <td>NaN</td>\n",
              "      <td>NaN</td>\n",
              "      <td>NaN</td>\n",
              "      <td>NaN</td>\n",
              "      <td>NaN</td>\n",
              "    </tr>\n",
              "    <tr>\n",
              "      <th>2</th>\n",
              "      <td>54</td>\n",
              "      <td>2020_01_ARI_SF</td>\n",
              "      <td>2020091311</td>\n",
              "      <td>SF</td>\n",
              "      <td>ARI</td>\n",
              "      <td>REG</td>\n",
              "      <td>1</td>\n",
              "      <td>SF</td>\n",
              "      <td>home</td>\n",
              "      <td>ARI</td>\n",
              "      <td>SF</td>\n",
              "      <td>75.0</td>\n",
              "      <td>2020-09-13</td>\n",
              "      <td>900.0</td>\n",
              "      <td>1800.0</td>\n",
              "      <td>3600.0</td>\n",
              "      <td>Half1</td>\n",
              "      <td>0</td>\n",
              "      <td>1.0</td>\n",
              "      <td>0</td>\n",
              "      <td>1</td>\n",
              "      <td>1.0</td>\n",
              "      <td>0</td>\n",
              "      <td>15:00</td>\n",
              "      <td>SF 25</td>\n",
              "      <td>10</td>\n",
              "      <td>41.0</td>\n",
              "      <td>(15:00) (Shotgun) 10-J.Garoppolo pass short ri...</td>\n",
              "      <td>pass</td>\n",
              "      <td>5.0</td>\n",
              "      <td>1</td>\n",
              "      <td>0</td>\n",
              "      <td>1.0</td>\n",
              "      <td>0</td>\n",
              "      <td>0</td>\n",
              "      <td>0</td>\n",
              "      <td>short</td>\n",
              "      <td>right</td>\n",
              "      <td>4.0</td>\n",
              "      <td>1.0</td>\n",
              "      <td>...</td>\n",
              "      <td>20</td>\n",
              "      <td>Home</td>\n",
              "      <td>-4</td>\n",
              "      <td>44</td>\n",
              "      <td>7.0</td>\n",
              "      <td>48.5</td>\n",
              "      <td>1</td>\n",
              "      <td>outdoors</td>\n",
              "      <td>NaN</td>\n",
              "      <td>NaN</td>\n",
              "      <td>NaN</td>\n",
              "      <td>Kyle Shanahan</td>\n",
              "      <td>Kliff Kingsbury</td>\n",
              "      <td>SFO01</td>\n",
              "      <td>Levi's Stadium</td>\n",
              "      <td>1.0</td>\n",
              "      <td>J.Garoppolo</td>\n",
              "      <td>10.0</td>\n",
              "      <td>NaN</td>\n",
              "      <td>NaN</td>\n",
              "      <td>G.Kittle</td>\n",
              "      <td>85.0</td>\n",
              "      <td>1</td>\n",
              "      <td>0</td>\n",
              "      <td>1.0</td>\n",
              "      <td>0</td>\n",
              "      <td>0</td>\n",
              "      <td>1</td>\n",
              "      <td>32013030-2d30-3033-3133-34353afe165e</td>\n",
              "      <td>NaN</td>\n",
              "      <td>32013030-2d30-3033-3332-383818d98dc1</td>\n",
              "      <td>J.Garoppolo</td>\n",
              "      <td>10.0</td>\n",
              "      <td>32013030-2d30-3033-3133-34353afe165e</td>\n",
              "      <td>1.294838</td>\n",
              "      <td>0.50337</td>\n",
              "      <td>4.275048</td>\n",
              "      <td>2.0</td>\n",
              "      <td>0.619306</td>\n",
              "      <td>0.239695</td>\n",
              "    </tr>\n",
              "  </tbody>\n",
              "</table>\n",
              "<p>3 rows × 340 columns</p>\n",
              "</div>"
            ],
            "text/plain": [
              "   play_id         game_id  ...  xyac_success   xyac_fd\n",
              "0        1  2020_01_ARI_SF  ...           NaN       NaN\n",
              "1       39  2020_01_ARI_SF  ...           NaN       NaN\n",
              "2       54  2020_01_ARI_SF  ...      0.619306  0.239695\n",
              "\n",
              "[3 rows x 340 columns]"
            ]
          },
          "metadata": {
            "tags": []
          },
          "execution_count": 6
        }
      ]
    },
    {
      "cell_type": "code",
      "metadata": {
        "id": "KDKQf20TsGf8",
        "outputId": "2b3341ef-6407-47b1-e0b7-d52ca68baa17",
        "colab": {
          "base_uri": "https://localhost:8080/",
          "height": 287
        }
      },
      "source": [
        "#.describe() returns a summary table of our data.\n",
        "#Since there are so many categorial variables in\n",
        "#this data, we can filter by column to get a clean summary\n",
        "#of data we want to look at.\n",
        "data.filter(\n",
        "    ['yards_gained','ydstogo','air_yards']\n",
        "    ).describe().round(2)"
      ],
      "execution_count": 8,
      "outputs": [
        {
          "output_type": "execute_result",
          "data": {
            "text/html": [
              "<div>\n",
              "<style scoped>\n",
              "    .dataframe tbody tr th:only-of-type {\n",
              "        vertical-align: middle;\n",
              "    }\n",
              "\n",
              "    .dataframe tbody tr th {\n",
              "        vertical-align: top;\n",
              "    }\n",
              "\n",
              "    .dataframe thead th {\n",
              "        text-align: right;\n",
              "    }\n",
              "</style>\n",
              "<table border=\"1\" class=\"dataframe\">\n",
              "  <thead>\n",
              "    <tr style=\"text-align: right;\">\n",
              "      <th></th>\n",
              "      <th>yards_gained</th>\n",
              "      <th>ydstogo</th>\n",
              "      <th>air_yards</th>\n",
              "    </tr>\n",
              "  </thead>\n",
              "  <tbody>\n",
              "    <tr>\n",
              "      <th>count</th>\n",
              "      <td>11135.00</td>\n",
              "      <td>11666.00</td>\n",
              "      <td>4546.00</td>\n",
              "    </tr>\n",
              "    <tr>\n",
              "      <th>mean</th>\n",
              "      <td>4.24</td>\n",
              "      <td>6.98</td>\n",
              "      <td>7.89</td>\n",
              "    </tr>\n",
              "    <tr>\n",
              "      <th>std</th>\n",
              "      <td>7.75</td>\n",
              "      <td>5.03</td>\n",
              "      <td>9.89</td>\n",
              "    </tr>\n",
              "    <tr>\n",
              "      <th>min</th>\n",
              "      <td>-28.00</td>\n",
              "      <td>0.00</td>\n",
              "      <td>-70.00</td>\n",
              "    </tr>\n",
              "    <tr>\n",
              "      <th>25%</th>\n",
              "      <td>0.00</td>\n",
              "      <td>2.00</td>\n",
              "      <td>1.00</td>\n",
              "    </tr>\n",
              "    <tr>\n",
              "      <th>50%</th>\n",
              "      <td>1.00</td>\n",
              "      <td>9.00</td>\n",
              "      <td>5.00</td>\n",
              "    </tr>\n",
              "    <tr>\n",
              "      <th>75%</th>\n",
              "      <td>6.00</td>\n",
              "      <td>10.00</td>\n",
              "      <td>12.00</td>\n",
              "    </tr>\n",
              "    <tr>\n",
              "      <th>max</th>\n",
              "      <td>84.00</td>\n",
              "      <td>41.00</td>\n",
              "      <td>56.00</td>\n",
              "    </tr>\n",
              "  </tbody>\n",
              "</table>\n",
              "</div>"
            ],
            "text/plain": [
              "       yards_gained   ydstogo  air_yards\n",
              "count      11135.00  11666.00    4546.00\n",
              "mean           4.24      6.98       7.89\n",
              "std            7.75      5.03       9.89\n",
              "min          -28.00      0.00     -70.00\n",
              "25%            0.00      2.00       1.00\n",
              "50%            1.00      9.00       5.00\n",
              "75%            6.00     10.00      12.00\n",
              "max           84.00     41.00      56.00"
            ]
          },
          "metadata": {
            "tags": []
          },
          "execution_count": 8
        }
      ]
    },
    {
      "cell_type": "markdown",
      "metadata": {
        "id": "nIfLpluBBf7S"
      },
      "source": [
        "####Quick Data Cleaning/Preprocessing\n",
        "\n",
        "Thankfully, nflfastR provides cleaned pbp data which means all the hard work is already done for us. Occasionally, however, there is an error in the data from the NFL's end that needs fixing. As you can see, the minimum air yards value is -70 at the time I'm creating this tutorial, which is obviously incorrect. To fix this we can use the `np.where()` method from the `numpy` package. It is essentially looking at all `air_yards` values and telling python that if any are less than -10, replace it with the median air yards value, and if not, just keep the original air yards value.\n",
        "\n",
        "*It is entirely possible that this data has been fixed if you are reading this some time after its release. Nonetheless, it's an important code chunk to keep in your back pocket if a similar situation ever arises again.*"
      ]
    },
    {
      "cell_type": "code",
      "metadata": {
        "id": "MR1qQrNjCFXM"
      },
      "source": [
        "data['air_yards'] = (\n",
        "    np.where(\n",
        "    data['air_yards'] < -10, \n",
        "    data['air_yards'].median(), \n",
        "    data['air_yards'])\n",
        "    )"
      ],
      "execution_count": 9,
      "outputs": []
    },
    {
      "cell_type": "markdown",
      "metadata": {
        "id": "Ffo6ZhuWJwmC"
      },
      "source": [
        "Now let's check the summary data again."
      ]
    },
    {
      "cell_type": "code",
      "metadata": {
        "id": "0nQ2f5W0JhGO",
        "outputId": "7cc90149-8173-4aa9-a7d5-2f40a9a78ec5",
        "colab": {
          "base_uri": "https://localhost:8080/",
          "height": 287
        }
      },
      "source": [
        "data.filter(\n",
        "    ['yards_gained','ydstogo','air_yards']\n",
        "    ).describe().round(2)"
      ],
      "execution_count": 11,
      "outputs": [
        {
          "output_type": "execute_result",
          "data": {
            "text/html": [
              "<div>\n",
              "<style scoped>\n",
              "    .dataframe tbody tr th:only-of-type {\n",
              "        vertical-align: middle;\n",
              "    }\n",
              "\n",
              "    .dataframe tbody tr th {\n",
              "        vertical-align: top;\n",
              "    }\n",
              "\n",
              "    .dataframe thead th {\n",
              "        text-align: right;\n",
              "    }\n",
              "</style>\n",
              "<table border=\"1\" class=\"dataframe\">\n",
              "  <thead>\n",
              "    <tr style=\"text-align: right;\">\n",
              "      <th></th>\n",
              "      <th>yards_gained</th>\n",
              "      <th>ydstogo</th>\n",
              "      <th>air_yards</th>\n",
              "    </tr>\n",
              "  </thead>\n",
              "  <tbody>\n",
              "    <tr>\n",
              "      <th>count</th>\n",
              "      <td>11135.00</td>\n",
              "      <td>11666.00</td>\n",
              "      <td>4546.00</td>\n",
              "    </tr>\n",
              "    <tr>\n",
              "      <th>mean</th>\n",
              "      <td>4.24</td>\n",
              "      <td>6.98</td>\n",
              "      <td>7.92</td>\n",
              "    </tr>\n",
              "    <tr>\n",
              "      <th>std</th>\n",
              "      <td>7.75</td>\n",
              "      <td>5.03</td>\n",
              "      <td>9.80</td>\n",
              "    </tr>\n",
              "    <tr>\n",
              "      <th>min</th>\n",
              "      <td>-28.00</td>\n",
              "      <td>0.00</td>\n",
              "      <td>-10.00</td>\n",
              "    </tr>\n",
              "    <tr>\n",
              "      <th>25%</th>\n",
              "      <td>0.00</td>\n",
              "      <td>2.00</td>\n",
              "      <td>1.00</td>\n",
              "    </tr>\n",
              "    <tr>\n",
              "      <th>50%</th>\n",
              "      <td>1.00</td>\n",
              "      <td>9.00</td>\n",
              "      <td>5.00</td>\n",
              "    </tr>\n",
              "    <tr>\n",
              "      <th>75%</th>\n",
              "      <td>6.00</td>\n",
              "      <td>10.00</td>\n",
              "      <td>12.00</td>\n",
              "    </tr>\n",
              "    <tr>\n",
              "      <th>max</th>\n",
              "      <td>84.00</td>\n",
              "      <td>41.00</td>\n",
              "      <td>56.00</td>\n",
              "    </tr>\n",
              "  </tbody>\n",
              "</table>\n",
              "</div>"
            ],
            "text/plain": [
              "       yards_gained   ydstogo  air_yards\n",
              "count      11135.00  11666.00    4546.00\n",
              "mean           4.24      6.98       7.92\n",
              "std            7.75      5.03       9.80\n",
              "min          -28.00      0.00     -10.00\n",
              "25%            0.00      2.00       1.00\n",
              "50%            1.00      9.00       5.00\n",
              "75%            6.00     10.00      12.00\n",
              "max           84.00     41.00      56.00"
            ]
          },
          "metadata": {
            "tags": []
          },
          "execution_count": 11
        }
      ]
    },
    {
      "cell_type": "markdown",
      "metadata": {
        "id": "KmMq91PKJ4qP"
      },
      "source": [
        "Looks good! These descriptive methods are important when starting any project as they bring to light any errors or outliers in the data that might need to be fixed.\n",
        "\n",
        "*Note, the NFL has done a good job of fixing errors in their data rather promptly. nflfastR automates the updating of its data weekly, so once the NFL fixes an error it will likely be fixed in this data not long after.*"
      ]
    },
    {
      "cell_type": "markdown",
      "metadata": {
        "id": "lAZtwHPRwkeQ"
      },
      "source": [
        "###Below are some other fields you may find useful when working with nflfastR:\n",
        "\n",
        "`yardline_100` - numeric distance in the number of yards from the opponent’s endzone for the posteam.\n",
        "\n",
        "`play_type` - string indicating the type of play: pass (includes sacks), run (includes scrambles), punt, field_goal, kickoff, extra_point, qb_kneel, qb_spike, no_play (timeouts and penalties), and missing for rows indicating end of play.\n",
        "\n",
        "`game_id` - a unique id given to each NFL game (YEAR_WEEK_AWAY_HOME, year is YYYY format and single digit weeks must lead with a 0)\n",
        "\n",
        "`posteam` - string abbreviation for the team with possession\n",
        "\n",
        "`defteam` - string abbreviation for the team on defense\n",
        "\n",
        "`receiver` - name of the receiver including plays with penalties\n",
        "\n",
        "`rusher` - name of the rusher (no scrambles) including plays with penalties\n",
        "\n",
        "`passer` - name of the dropback player (scrambles included) including plays with penalties\n",
        "\n",
        "`passer_id`, `rusher_id`, `receiver_id` - the player ID for the passer, rusher, or receiver on a play\n",
        "\n",
        "`down` - down of the play\n",
        "\n",
        "`series_success` - marked as a 1 if the series becomes successful (first down or a touchdown)\n",
        "\n",
        "`epa` - expected points added (EPA) by the posteam for the given play\n",
        "\n",
        "`cpoe` - completion percentage over expected on a given pass"
      ]
    },
    {
      "cell_type": "markdown",
      "metadata": {
        "id": "EjgaSow2UACH"
      },
      "source": [
        "#Part 3 - Basic Data Manipulation\n",
        "\n",
        "##Subsetting/Querying\n",
        "\n",
        "One thing you will do a lot when working with data is subsetting, or querying, based on certain conditions. To do this, we can use python operators (comparison and bitwise) and even some pandas methods.\n",
        "\n",
        "Comparison:\n",
        "\n",
        "`==` - equal\n",
        "\n",
        "`!=` - not equal\n",
        "\n",
        "`>` - greater than\n",
        "\n",
        "`<` - less than\n",
        "\n",
        "`>=` - greater than or equal to\n",
        "\n",
        "`<=` - less than or equal to\n",
        "\n",
        "Bitwise:\n",
        "\n",
        "`&` - AND\n",
        "\n",
        "`|` - OR\n",
        "\n",
        "`~` - not\n",
        "\n",
        "Pandas Methods:\n",
        "\n",
        "`.isin()` - whether each element in the DataFrame is contained in certain values\n",
        "\n",
        "`.isna()` - detects missing values\n",
        "\n",
        "`.str.contains()` - test if pattern or regex is contained within a string\n",
        "\n",
        "These subsetting tools along with other pandas methods make the data analysis workflow a breeze. Let's see an example of subsetting by filtering out plays we don't want from our data such as kneel downs, field goals, penalties, etc.. We will assign this new dataframe to `df`. Using different variable names is important, because if we mess up somewhere in our analysis, we still have the untouched `data` object to fall back on (I call this our 'base' data)."
      ]
    },
    {
      "cell_type": "code",
      "metadata": {
        "id": "tTCvz0ule05Y"
      },
      "source": [
        "df = data[\n",
        "          (data.play_type.isin(['no_play','pass','run'])) &\n",
        "          (data.two_point_attempt==0) &\n",
        "          (data['epa'].isna()==False) &\n",
        "          (data['week']<=4)\n",
        "          ]"
      ],
      "execution_count": 12,
      "outputs": []
    },
    {
      "cell_type": "markdown",
      "metadata": {
        "id": "_uETaSyWZ_RP"
      },
      "source": [
        "Note that when subsetting by `play_type` and `two_point_attempt`, I used `data.play_type` and `data.two_point_attempt`. When subsetting by `epa` and `week` I used `data['epa']` and `data['week']`. The difference here is how I denote the column of interest. The former uses a dot while the latter is bracketed and in string format. In python, both dot and bracket notation work. Use whichever method you prefer, but keep in mind there are some situations where bracket notation is needed. For example, bracket notation is needed when using a column with a dot in its name. Since dots signify an operation in python, the program would get confused. In addition to this, dot operation does not work with [keywords](https://www.w3schools.com/python/python_ref_keywords.asp) as they are reserved for other purposes within the python language. Thus, if you're working with data that has a field name of a python keyword (such as `pass`), you should use bracket notation (or just simply change the name of the field using `.rename()`). Again, use whichever is most convenient for you, but make sure to keep these particular use cases in mind."
      ]
    },
    {
      "cell_type": "markdown",
      "metadata": {
        "id": "54nRE777N4X4"
      },
      "source": [
        "###Air yards data\n",
        "\n",
        "The following code will calculate total air yards for each receiver in our data and assign it to the variable `ay_data`. First, we use the `.groupby()` method, which consists of three steps:\n",
        "\n",
        "1. Split the data into groups based on some criteria \n",
        "2. Apply a function to each group\n",
        "3. Combine the results\n",
        "\n",
        "This methodology is straightforwardly named \"Split, Apply, Combine\". We then follow that up with some other pandas methods to polish our dataframe. Let's see what this looks like in code, which I will follow up with an explanation."
      ]
    },
    {
      "cell_type": "code",
      "metadata": {
        "id": "a-AFA8jP6k0i",
        "outputId": "1c41f207-10cb-4011-cd1a-f301563acf5d",
        "colab": {
          "base_uri": "https://localhost:8080/",
          "height": 347
        }
      },
      "source": [
        "ay_data = (\n",
        "    df.groupby(['receiver','posteam'])[['air_yards']]\n",
        "    .sum()\n",
        "    .reset_index()\n",
        "    .sort_values(by=['air_yards'],ascending=False)\n",
        "    .reset_index(drop=True)\n",
        "    )\n",
        "\n",
        "ay_data.head(10)"
      ],
      "execution_count": 13,
      "outputs": [
        {
          "output_type": "execute_result",
          "data": {
            "text/html": [
              "<div>\n",
              "<style scoped>\n",
              "    .dataframe tbody tr th:only-of-type {\n",
              "        vertical-align: middle;\n",
              "    }\n",
              "\n",
              "    .dataframe tbody tr th {\n",
              "        vertical-align: top;\n",
              "    }\n",
              "\n",
              "    .dataframe thead th {\n",
              "        text-align: right;\n",
              "    }\n",
              "</style>\n",
              "<table border=\"1\" class=\"dataframe\">\n",
              "  <thead>\n",
              "    <tr style=\"text-align: right;\">\n",
              "      <th></th>\n",
              "      <th>receiver</th>\n",
              "      <th>posteam</th>\n",
              "      <th>air_yards</th>\n",
              "    </tr>\n",
              "  </thead>\n",
              "  <tbody>\n",
              "    <tr>\n",
              "      <th>0</th>\n",
              "      <td>C.Ridley</td>\n",
              "      <td>ATL</td>\n",
              "      <td>658.0</td>\n",
              "    </tr>\n",
              "    <tr>\n",
              "      <th>1</th>\n",
              "      <td>A.Thielen</td>\n",
              "      <td>MIN</td>\n",
              "      <td>495.0</td>\n",
              "    </tr>\n",
              "    <tr>\n",
              "      <th>2</th>\n",
              "      <td>A.Green</td>\n",
              "      <td>CIN</td>\n",
              "      <td>480.0</td>\n",
              "    </tr>\n",
              "    <tr>\n",
              "      <th>3</th>\n",
              "      <td>A.Cooper</td>\n",
              "      <td>DAL</td>\n",
              "      <td>476.0</td>\n",
              "    </tr>\n",
              "    <tr>\n",
              "      <th>4</th>\n",
              "      <td>A.Robinson</td>\n",
              "      <td>CHI</td>\n",
              "      <td>472.0</td>\n",
              "    </tr>\n",
              "    <tr>\n",
              "      <th>5</th>\n",
              "      <td>D.Metcalf</td>\n",
              "      <td>SEA</td>\n",
              "      <td>466.0</td>\n",
              "    </tr>\n",
              "    <tr>\n",
              "      <th>6</th>\n",
              "      <td>M.Brown</td>\n",
              "      <td>BAL</td>\n",
              "      <td>462.0</td>\n",
              "    </tr>\n",
              "    <tr>\n",
              "      <th>7</th>\n",
              "      <td>O.Beckham</td>\n",
              "      <td>CLE</td>\n",
              "      <td>436.0</td>\n",
              "    </tr>\n",
              "    <tr>\n",
              "      <th>8</th>\n",
              "      <td>M.Valdes-Scantling</td>\n",
              "      <td>GB</td>\n",
              "      <td>431.0</td>\n",
              "    </tr>\n",
              "    <tr>\n",
              "      <th>9</th>\n",
              "      <td>K.Allen</td>\n",
              "      <td>LAC</td>\n",
              "      <td>422.0</td>\n",
              "    </tr>\n",
              "  </tbody>\n",
              "</table>\n",
              "</div>"
            ],
            "text/plain": [
              "             receiver posteam  air_yards\n",
              "0            C.Ridley     ATL      658.0\n",
              "1           A.Thielen     MIN      495.0\n",
              "2             A.Green     CIN      480.0\n",
              "3            A.Cooper     DAL      476.0\n",
              "4          A.Robinson     CHI      472.0\n",
              "5           D.Metcalf     SEA      466.0\n",
              "6             M.Brown     BAL      462.0\n",
              "7           O.Beckham     CLE      436.0\n",
              "8  M.Valdes-Scantling      GB      431.0\n",
              "9             K.Allen     LAC      422.0"
            ]
          },
          "metadata": {
            "tags": []
          },
          "execution_count": 13
        }
      ]
    },
    {
      "cell_type": "markdown",
      "metadata": {
        "id": "q58MoJJsd_mi"
      },
      "source": [
        " Specifically in this scenario, we are *splitting* the data by receiver and posteam, *applying* the sum of `air_yards` to each receiver, then *combining* the results by assigning it to `ay_data`. Then, we are simply sorting by air yards and resetting the index value as a way to essentially show that player's rank in total air yards. Python starts indexing at zero, so a player's rank is their index value + 1. It's also good to just reset the index when creating a new dataframe so things aren't jumbled up randomly which could cause problems down the road.  `.groupby()` is crucial when working with data in python and you will most likely be using it in every analysis you do; it's really powerful!\n",
        "\n",
        " *Remember: Split, Apply, Combine!*\n",
        "\n",
        " Also... MVS 👀"
      ]
    },
    {
      "cell_type": "markdown",
      "metadata": {
        "id": "_0L8X5bL7MEW"
      },
      "source": [
        "Now we can use the aforementioned operators in a variety of ways to query `ay_data`. Get creative!"
      ]
    },
    {
      "cell_type": "code",
      "metadata": {
        "id": "q_jopfQR-uJR",
        "outputId": "21a49a19-0e05-4d0c-e3d9-c2b556420c54",
        "colab": {
          "base_uri": "https://localhost:8080/",
          "height": 197
        }
      },
      "source": [
        "#Cowboys air yards leaders\n",
        "ay_data[(ay_data.posteam=='DAL')].head(5)"
      ],
      "execution_count": 14,
      "outputs": [
        {
          "output_type": "execute_result",
          "data": {
            "text/html": [
              "<div>\n",
              "<style scoped>\n",
              "    .dataframe tbody tr th:only-of-type {\n",
              "        vertical-align: middle;\n",
              "    }\n",
              "\n",
              "    .dataframe tbody tr th {\n",
              "        vertical-align: top;\n",
              "    }\n",
              "\n",
              "    .dataframe thead th {\n",
              "        text-align: right;\n",
              "    }\n",
              "</style>\n",
              "<table border=\"1\" class=\"dataframe\">\n",
              "  <thead>\n",
              "    <tr style=\"text-align: right;\">\n",
              "      <th></th>\n",
              "      <th>receiver</th>\n",
              "      <th>posteam</th>\n",
              "      <th>air_yards</th>\n",
              "    </tr>\n",
              "  </thead>\n",
              "  <tbody>\n",
              "    <tr>\n",
              "      <th>3</th>\n",
              "      <td>A.Cooper</td>\n",
              "      <td>DAL</td>\n",
              "      <td>476.0</td>\n",
              "    </tr>\n",
              "    <tr>\n",
              "      <th>10</th>\n",
              "      <td>M.Gallup</td>\n",
              "      <td>DAL</td>\n",
              "      <td>403.0</td>\n",
              "    </tr>\n",
              "    <tr>\n",
              "      <th>35</th>\n",
              "      <td>C.Lamb</td>\n",
              "      <td>DAL</td>\n",
              "      <td>260.0</td>\n",
              "    </tr>\n",
              "    <tr>\n",
              "      <th>68</th>\n",
              "      <td>D.Schultz</td>\n",
              "      <td>DAL</td>\n",
              "      <td>187.0</td>\n",
              "    </tr>\n",
              "    <tr>\n",
              "      <th>91</th>\n",
              "      <td>C.Wilson</td>\n",
              "      <td>DAL</td>\n",
              "      <td>142.0</td>\n",
              "    </tr>\n",
              "  </tbody>\n",
              "</table>\n",
              "</div>"
            ],
            "text/plain": [
              "     receiver posteam  air_yards\n",
              "3    A.Cooper     DAL      476.0\n",
              "10   M.Gallup     DAL      403.0\n",
              "35     C.Lamb     DAL      260.0\n",
              "68  D.Schultz     DAL      187.0\n",
              "91   C.Wilson     DAL      142.0"
            ]
          },
          "metadata": {
            "tags": []
          },
          "execution_count": 14
        }
      ]
    },
    {
      "cell_type": "code",
      "metadata": {
        "id": "7g3o-Nt3fTcc",
        "outputId": "d252cb15-9ad6-4d12-94bc-a1a594dc7d1c",
        "colab": {
          "base_uri": "https://localhost:8080/",
          "height": 347
        }
      },
      "source": [
        "#NFCN air yards leaders\n",
        "ay_data[\n",
        "        (ay_data.posteam.isin(['MIN','GB','CHI','DET']))\n",
        "        ].head(10)"
      ],
      "execution_count": 15,
      "outputs": [
        {
          "output_type": "execute_result",
          "data": {
            "text/html": [
              "<div>\n",
              "<style scoped>\n",
              "    .dataframe tbody tr th:only-of-type {\n",
              "        vertical-align: middle;\n",
              "    }\n",
              "\n",
              "    .dataframe tbody tr th {\n",
              "        vertical-align: top;\n",
              "    }\n",
              "\n",
              "    .dataframe thead th {\n",
              "        text-align: right;\n",
              "    }\n",
              "</style>\n",
              "<table border=\"1\" class=\"dataframe\">\n",
              "  <thead>\n",
              "    <tr style=\"text-align: right;\">\n",
              "      <th></th>\n",
              "      <th>receiver</th>\n",
              "      <th>posteam</th>\n",
              "      <th>air_yards</th>\n",
              "    </tr>\n",
              "  </thead>\n",
              "  <tbody>\n",
              "    <tr>\n",
              "      <th>1</th>\n",
              "      <td>A.Thielen</td>\n",
              "      <td>MIN</td>\n",
              "      <td>495.0</td>\n",
              "    </tr>\n",
              "    <tr>\n",
              "      <th>4</th>\n",
              "      <td>A.Robinson</td>\n",
              "      <td>CHI</td>\n",
              "      <td>472.0</td>\n",
              "    </tr>\n",
              "    <tr>\n",
              "      <th>8</th>\n",
              "      <td>M.Valdes-Scantling</td>\n",
              "      <td>GB</td>\n",
              "      <td>431.0</td>\n",
              "    </tr>\n",
              "    <tr>\n",
              "      <th>26</th>\n",
              "      <td>A.Miller</td>\n",
              "      <td>CHI</td>\n",
              "      <td>292.0</td>\n",
              "    </tr>\n",
              "    <tr>\n",
              "      <th>31</th>\n",
              "      <td>J.Jefferson</td>\n",
              "      <td>MIN</td>\n",
              "      <td>269.0</td>\n",
              "    </tr>\n",
              "    <tr>\n",
              "      <th>37</th>\n",
              "      <td>D.Mooney</td>\n",
              "      <td>CHI</td>\n",
              "      <td>258.0</td>\n",
              "    </tr>\n",
              "    <tr>\n",
              "      <th>56</th>\n",
              "      <td>A.Lazard</td>\n",
              "      <td>GB</td>\n",
              "      <td>209.0</td>\n",
              "    </tr>\n",
              "    <tr>\n",
              "      <th>57</th>\n",
              "      <td>D.Amendola</td>\n",
              "      <td>DET</td>\n",
              "      <td>207.0</td>\n",
              "    </tr>\n",
              "    <tr>\n",
              "      <th>67</th>\n",
              "      <td>M.Jones</td>\n",
              "      <td>DET</td>\n",
              "      <td>187.0</td>\n",
              "    </tr>\n",
              "    <tr>\n",
              "      <th>70</th>\n",
              "      <td>D.Adams</td>\n",
              "      <td>GB</td>\n",
              "      <td>184.0</td>\n",
              "    </tr>\n",
              "  </tbody>\n",
              "</table>\n",
              "</div>"
            ],
            "text/plain": [
              "              receiver posteam  air_yards\n",
              "1            A.Thielen     MIN      495.0\n",
              "4           A.Robinson     CHI      472.0\n",
              "8   M.Valdes-Scantling      GB      431.0\n",
              "26            A.Miller     CHI      292.0\n",
              "31         J.Jefferson     MIN      269.0\n",
              "37            D.Mooney     CHI      258.0\n",
              "56            A.Lazard      GB      209.0\n",
              "57          D.Amendola     DET      207.0\n",
              "67             M.Jones     DET      187.0\n",
              "70             D.Adams      GB      184.0"
            ]
          },
          "metadata": {
            "tags": []
          },
          "execution_count": 15
        }
      ]
    },
    {
      "cell_type": "code",
      "metadata": {
        "id": "G48W1ZnKVb6m",
        "outputId": "61d43722-6f3e-46f2-b66d-a8d5e619abd6",
        "colab": {
          "base_uri": "https://localhost:8080/",
          "height": 347
        }
      },
      "source": [
        "#air yards leaders excluding NFCN\n",
        "ay_data[\n",
        "        (~ay_data.posteam.isin(['MIN','GB','CHI','DET']))\n",
        "        ].head(10)"
      ],
      "execution_count": 16,
      "outputs": [
        {
          "output_type": "execute_result",
          "data": {
            "text/html": [
              "<div>\n",
              "<style scoped>\n",
              "    .dataframe tbody tr th:only-of-type {\n",
              "        vertical-align: middle;\n",
              "    }\n",
              "\n",
              "    .dataframe tbody tr th {\n",
              "        vertical-align: top;\n",
              "    }\n",
              "\n",
              "    .dataframe thead th {\n",
              "        text-align: right;\n",
              "    }\n",
              "</style>\n",
              "<table border=\"1\" class=\"dataframe\">\n",
              "  <thead>\n",
              "    <tr style=\"text-align: right;\">\n",
              "      <th></th>\n",
              "      <th>receiver</th>\n",
              "      <th>posteam</th>\n",
              "      <th>air_yards</th>\n",
              "    </tr>\n",
              "  </thead>\n",
              "  <tbody>\n",
              "    <tr>\n",
              "      <th>0</th>\n",
              "      <td>C.Ridley</td>\n",
              "      <td>ATL</td>\n",
              "      <td>658.0</td>\n",
              "    </tr>\n",
              "    <tr>\n",
              "      <th>2</th>\n",
              "      <td>A.Green</td>\n",
              "      <td>CIN</td>\n",
              "      <td>480.0</td>\n",
              "    </tr>\n",
              "    <tr>\n",
              "      <th>3</th>\n",
              "      <td>A.Cooper</td>\n",
              "      <td>DAL</td>\n",
              "      <td>476.0</td>\n",
              "    </tr>\n",
              "    <tr>\n",
              "      <th>5</th>\n",
              "      <td>D.Metcalf</td>\n",
              "      <td>SEA</td>\n",
              "      <td>466.0</td>\n",
              "    </tr>\n",
              "    <tr>\n",
              "      <th>6</th>\n",
              "      <td>M.Brown</td>\n",
              "      <td>BAL</td>\n",
              "      <td>462.0</td>\n",
              "    </tr>\n",
              "    <tr>\n",
              "      <th>7</th>\n",
              "      <td>O.Beckham</td>\n",
              "      <td>CLE</td>\n",
              "      <td>436.0</td>\n",
              "    </tr>\n",
              "    <tr>\n",
              "      <th>9</th>\n",
              "      <td>K.Allen</td>\n",
              "      <td>LAC</td>\n",
              "      <td>422.0</td>\n",
              "    </tr>\n",
              "    <tr>\n",
              "      <th>10</th>\n",
              "      <td>M.Gallup</td>\n",
              "      <td>DAL</td>\n",
              "      <td>403.0</td>\n",
              "    </tr>\n",
              "    <tr>\n",
              "      <th>11</th>\n",
              "      <td>D.Moore</td>\n",
              "      <td>CAR</td>\n",
              "      <td>403.0</td>\n",
              "    </tr>\n",
              "    <tr>\n",
              "      <th>12</th>\n",
              "      <td>T.McLaurin</td>\n",
              "      <td>WAS</td>\n",
              "      <td>397.0</td>\n",
              "    </tr>\n",
              "  </tbody>\n",
              "</table>\n",
              "</div>"
            ],
            "text/plain": [
              "      receiver posteam  air_yards\n",
              "0     C.Ridley     ATL      658.0\n",
              "2      A.Green     CIN      480.0\n",
              "3     A.Cooper     DAL      476.0\n",
              "5    D.Metcalf     SEA      466.0\n",
              "6      M.Brown     BAL      462.0\n",
              "7    O.Beckham     CLE      436.0\n",
              "9      K.Allen     LAC      422.0\n",
              "10    M.Gallup     DAL      403.0\n",
              "11     D.Moore     CAR      403.0\n",
              "12  T.McLaurin     WAS      397.0"
            ]
          },
          "metadata": {
            "tags": []
          },
          "execution_count": 16
        }
      ]
    },
    {
      "cell_type": "code",
      "metadata": {
        "id": "6PV0VqAVfjGO",
        "outputId": "aaa467ad-7201-47fb-a54a-99806a50a77f",
        "colab": {
          "base_uri": "https://localhost:8080/",
          "height": 77
        }
      },
      "source": [
        "#Nice\n",
        "ay_data[(ay_data.air_yards==69)]"
      ],
      "execution_count": 17,
      "outputs": [
        {
          "output_type": "execute_result",
          "data": {
            "text/html": [
              "<div>\n",
              "<style scoped>\n",
              "    .dataframe tbody tr th:only-of-type {\n",
              "        vertical-align: middle;\n",
              "    }\n",
              "\n",
              "    .dataframe tbody tr th {\n",
              "        vertical-align: top;\n",
              "    }\n",
              "\n",
              "    .dataframe thead th {\n",
              "        text-align: right;\n",
              "    }\n",
              "</style>\n",
              "<table border=\"1\" class=\"dataframe\">\n",
              "  <thead>\n",
              "    <tr style=\"text-align: right;\">\n",
              "      <th></th>\n",
              "      <th>receiver</th>\n",
              "      <th>posteam</th>\n",
              "      <th>air_yards</th>\n",
              "    </tr>\n",
              "  </thead>\n",
              "  <tbody>\n",
              "    <tr>\n",
              "      <th>159</th>\n",
              "      <td>D.Fells</td>\n",
              "      <td>HOU</td>\n",
              "      <td>69.0</td>\n",
              "    </tr>\n",
              "  </tbody>\n",
              "</table>\n",
              "</div>"
            ],
            "text/plain": [
              "    receiver posteam  air_yards\n",
              "159  D.Fells     HOU       69.0"
            ]
          },
          "metadata": {
            "tags": []
          },
          "execution_count": 17
        }
      ]
    },
    {
      "cell_type": "markdown",
      "metadata": {
        "id": "zqfPAScEN8eK"
      },
      "source": [
        "###Redzone targets"
      ]
    },
    {
      "cell_type": "markdown",
      "metadata": {
        "id": "KJSoMVjPh6jd"
      },
      "source": [
        "Just like we split, applied, and combined to get air yards data, we can do the same thing for redzone data. First, we will create a dataframe `rz` which consists of only passes in the redzone. Then, we will use `rz` to *split* by `receiver` and `posteam`, *apply* the count of `play_id`, and *combine* by assigning it to `rz_tgts`.\n",
        "\n",
        "*Each play is assigned a unique* `play_id`*, so if we count the* `play_id` *for each group, we get total targets! This is a very useful trick to keep in mind.*"
      ]
    },
    {
      "cell_type": "code",
      "metadata": {
        "id": "fC183vd03zbJ",
        "outputId": "3ef0db95-1bcc-48a6-d8c8-135b6c101952",
        "colab": {
          "base_uri": "https://localhost:8080/",
          "height": 347
        }
      },
      "source": [
        "rz = df[\n",
        "        (df.yardline_100<20) &\n",
        "        (df.play_type=='pass')\n",
        "        ]\n",
        "\n",
        "rz_tgts = (\n",
        "    rz.groupby(['receiver','posteam'])[['play_id']]\n",
        "    .count()\n",
        "    .reset_index()\n",
        "    .sort_values(by=['play_id'],ascending=False)\n",
        "    .reset_index(drop=True)\n",
        "    )\n",
        "\n",
        "rz_tgts.head(10)"
      ],
      "execution_count": 18,
      "outputs": [
        {
          "output_type": "execute_result",
          "data": {
            "text/html": [
              "<div>\n",
              "<style scoped>\n",
              "    .dataframe tbody tr th:only-of-type {\n",
              "        vertical-align: middle;\n",
              "    }\n",
              "\n",
              "    .dataframe tbody tr th {\n",
              "        vertical-align: top;\n",
              "    }\n",
              "\n",
              "    .dataframe thead th {\n",
              "        text-align: right;\n",
              "    }\n",
              "</style>\n",
              "<table border=\"1\" class=\"dataframe\">\n",
              "  <thead>\n",
              "    <tr style=\"text-align: right;\">\n",
              "      <th></th>\n",
              "      <th>receiver</th>\n",
              "      <th>posteam</th>\n",
              "      <th>play_id</th>\n",
              "    </tr>\n",
              "  </thead>\n",
              "  <tbody>\n",
              "    <tr>\n",
              "      <th>0</th>\n",
              "      <td>A.Jones</td>\n",
              "      <td>GB</td>\n",
              "      <td>9</td>\n",
              "    </tr>\n",
              "    <tr>\n",
              "      <th>1</th>\n",
              "      <td>C.Ridley</td>\n",
              "      <td>ATL</td>\n",
              "      <td>8</td>\n",
              "    </tr>\n",
              "    <tr>\n",
              "      <th>2</th>\n",
              "      <td>N.Harry</td>\n",
              "      <td>NE</td>\n",
              "      <td>8</td>\n",
              "    </tr>\n",
              "    <tr>\n",
              "      <th>3</th>\n",
              "      <td>D.Sample</td>\n",
              "      <td>CIN</td>\n",
              "      <td>7</td>\n",
              "    </tr>\n",
              "    <tr>\n",
              "      <th>4</th>\n",
              "      <td>D.Waller</td>\n",
              "      <td>LV</td>\n",
              "      <td>7</td>\n",
              "    </tr>\n",
              "    <tr>\n",
              "      <th>5</th>\n",
              "      <td>A.Kamara</td>\n",
              "      <td>NO</td>\n",
              "      <td>7</td>\n",
              "    </tr>\n",
              "    <tr>\n",
              "      <th>6</th>\n",
              "      <td>M.Davis</td>\n",
              "      <td>CAR</td>\n",
              "      <td>7</td>\n",
              "    </tr>\n",
              "    <tr>\n",
              "      <th>7</th>\n",
              "      <td>J.Graham</td>\n",
              "      <td>CHI</td>\n",
              "      <td>7</td>\n",
              "    </tr>\n",
              "    <tr>\n",
              "      <th>8</th>\n",
              "      <td>M.Gesicki</td>\n",
              "      <td>MIA</td>\n",
              "      <td>6</td>\n",
              "    </tr>\n",
              "    <tr>\n",
              "      <th>9</th>\n",
              "      <td>D.Slayton</td>\n",
              "      <td>NYG</td>\n",
              "      <td>6</td>\n",
              "    </tr>\n",
              "  </tbody>\n",
              "</table>\n",
              "</div>"
            ],
            "text/plain": [
              "    receiver posteam  play_id\n",
              "0    A.Jones      GB        9\n",
              "1   C.Ridley     ATL        8\n",
              "2    N.Harry      NE        8\n",
              "3   D.Sample     CIN        7\n",
              "4   D.Waller      LV        7\n",
              "5   A.Kamara      NO        7\n",
              "6    M.Davis     CAR        7\n",
              "7   J.Graham     CHI        7\n",
              "8  M.Gesicki     MIA        6\n",
              "9  D.Slayton     NYG        6"
            ]
          },
          "metadata": {
            "tags": []
          },
          "execution_count": 18
        }
      ]
    },
    {
      "cell_type": "markdown",
      "metadata": {
        "id": "lRL3Qkzvb6qR"
      },
      "source": [
        "Mike Davis is *not* someone I was expecting to be T-3rd in redzone targets a quarter-way through the season!"
      ]
    },
    {
      "cell_type": "code",
      "metadata": {
        "id": "rHYjB2JpNrwj",
        "outputId": "ef9cc1ba-9a2b-43b0-927a-c881148c7193",
        "colab": {
          "base_uri": "https://localhost:8080/",
          "height": 497
        }
      },
      "source": [
        "rz_tgts[\n",
        "        (rz_tgts.posteam=='SEA') |\n",
        "        (rz_tgts.posteam=='DAL')\n",
        "        ]"
      ],
      "execution_count": 19,
      "outputs": [
        {
          "output_type": "execute_result",
          "data": {
            "text/html": [
              "<div>\n",
              "<style scoped>\n",
              "    .dataframe tbody tr th:only-of-type {\n",
              "        vertical-align: middle;\n",
              "    }\n",
              "\n",
              "    .dataframe tbody tr th {\n",
              "        vertical-align: top;\n",
              "    }\n",
              "\n",
              "    .dataframe thead th {\n",
              "        text-align: right;\n",
              "    }\n",
              "</style>\n",
              "<table border=\"1\" class=\"dataframe\">\n",
              "  <thead>\n",
              "    <tr style=\"text-align: right;\">\n",
              "      <th></th>\n",
              "      <th>receiver</th>\n",
              "      <th>posteam</th>\n",
              "      <th>play_id</th>\n",
              "    </tr>\n",
              "  </thead>\n",
              "  <tbody>\n",
              "    <tr>\n",
              "      <th>10</th>\n",
              "      <td>G.Olsen</td>\n",
              "      <td>SEA</td>\n",
              "      <td>5</td>\n",
              "    </tr>\n",
              "    <tr>\n",
              "      <th>14</th>\n",
              "      <td>D.Schultz</td>\n",
              "      <td>DAL</td>\n",
              "      <td>5</td>\n",
              "    </tr>\n",
              "    <tr>\n",
              "      <th>42</th>\n",
              "      <td>T.Lockett</td>\n",
              "      <td>SEA</td>\n",
              "      <td>4</td>\n",
              "    </tr>\n",
              "    <tr>\n",
              "      <th>44</th>\n",
              "      <td>C.Carson</td>\n",
              "      <td>SEA</td>\n",
              "      <td>4</td>\n",
              "    </tr>\n",
              "    <tr>\n",
              "      <th>57</th>\n",
              "      <td>A.Cooper</td>\n",
              "      <td>DAL</td>\n",
              "      <td>3</td>\n",
              "    </tr>\n",
              "    <tr>\n",
              "      <th>61</th>\n",
              "      <td>D.Moore</td>\n",
              "      <td>SEA</td>\n",
              "      <td>3</td>\n",
              "    </tr>\n",
              "    <tr>\n",
              "      <th>73</th>\n",
              "      <td>C.Lamb</td>\n",
              "      <td>DAL</td>\n",
              "      <td>3</td>\n",
              "    </tr>\n",
              "    <tr>\n",
              "      <th>85</th>\n",
              "      <td>N.Brown</td>\n",
              "      <td>DAL</td>\n",
              "      <td>2</td>\n",
              "    </tr>\n",
              "    <tr>\n",
              "      <th>113</th>\n",
              "      <td>E.Elliott</td>\n",
              "      <td>DAL</td>\n",
              "      <td>2</td>\n",
              "    </tr>\n",
              "    <tr>\n",
              "      <th>136</th>\n",
              "      <td>T.Homer</td>\n",
              "      <td>SEA</td>\n",
              "      <td>1</td>\n",
              "    </tr>\n",
              "    <tr>\n",
              "      <th>139</th>\n",
              "      <td>M.Gallup</td>\n",
              "      <td>DAL</td>\n",
              "      <td>1</td>\n",
              "    </tr>\n",
              "    <tr>\n",
              "      <th>170</th>\n",
              "      <td>D.Metcalf</td>\n",
              "      <td>SEA</td>\n",
              "      <td>1</td>\n",
              "    </tr>\n",
              "    <tr>\n",
              "      <th>174</th>\n",
              "      <td>F.Swain</td>\n",
              "      <td>SEA</td>\n",
              "      <td>1</td>\n",
              "    </tr>\n",
              "    <tr>\n",
              "      <th>189</th>\n",
              "      <td>B.Bell</td>\n",
              "      <td>DAL</td>\n",
              "      <td>1</td>\n",
              "    </tr>\n",
              "    <tr>\n",
              "      <th>236</th>\n",
              "      <td>J.Hollister</td>\n",
              "      <td>SEA</td>\n",
              "      <td>1</td>\n",
              "    </tr>\n",
              "  </tbody>\n",
              "</table>\n",
              "</div>"
            ],
            "text/plain": [
              "        receiver posteam  play_id\n",
              "10       G.Olsen     SEA        5\n",
              "14     D.Schultz     DAL        5\n",
              "42     T.Lockett     SEA        4\n",
              "44      C.Carson     SEA        4\n",
              "57      A.Cooper     DAL        3\n",
              "61       D.Moore     SEA        3\n",
              "73        C.Lamb     DAL        3\n",
              "85       N.Brown     DAL        2\n",
              "113    E.Elliott     DAL        2\n",
              "136      T.Homer     SEA        1\n",
              "139     M.Gallup     DAL        1\n",
              "170    D.Metcalf     SEA        1\n",
              "174      F.Swain     SEA        1\n",
              "189       B.Bell     DAL        1\n",
              "236  J.Hollister     SEA        1"
            ]
          },
          "metadata": {
            "tags": []
          },
          "execution_count": 19
        }
      ]
    },
    {
      "cell_type": "markdown",
      "metadata": {
        "id": "edeF6VHobubY"
      },
      "source": [
        "Tight ends lead in redzone targets for two of the highest scoring teams...\n",
        "\n",
        "(This is mainly because Russ and Dak have many long touchdowns each, but still...)"
      ]
    },
    {
      "cell_type": "markdown",
      "metadata": {
        "id": "90DVLAkuODfF"
      },
      "source": [
        "###Carries inside the five"
      ]
    },
    {
      "cell_type": "markdown",
      "metadata": {
        "id": "ZBKRGbgVkdaa"
      },
      "source": [
        "The process here should be familiar by now. Create a new dataframe `inside_5` by subsetting our data, using it to *split* by `rusher` and `posteam`, *apply* the count of `play_id`, and *combine* by assigning it to `carries_5` after touching it up."
      ]
    },
    {
      "cell_type": "code",
      "metadata": {
        "id": "FNZGfQpd4DhK",
        "outputId": "097259d1-a49d-4200-d08c-1ab4becc8b3a",
        "colab": {
          "base_uri": "https://localhost:8080/",
          "height": 407
        }
      },
      "source": [
        "inside_5 = data[\n",
        "                (data.yardline_100<5) &\n",
        "                (df.play_type=='run')\n",
        "                ]\n",
        "\n",
        "carries_5 = (\n",
        "    inside_5.groupby(['rusher','posteam'])[['play_id']]\n",
        "    .count()\n",
        "    .reset_index()\n",
        "    .sort_values(by=['play_id'],ascending=False)\n",
        "    .reset_index(drop=True)\n",
        "    )\n",
        "\n",
        "carries_5.head(12)"
      ],
      "execution_count": 20,
      "outputs": [
        {
          "output_type": "execute_result",
          "data": {
            "text/html": [
              "<div>\n",
              "<style scoped>\n",
              "    .dataframe tbody tr th:only-of-type {\n",
              "        vertical-align: middle;\n",
              "    }\n",
              "\n",
              "    .dataframe tbody tr th {\n",
              "        vertical-align: top;\n",
              "    }\n",
              "\n",
              "    .dataframe thead th {\n",
              "        text-align: right;\n",
              "    }\n",
              "</style>\n",
              "<table border=\"1\" class=\"dataframe\">\n",
              "  <thead>\n",
              "    <tr style=\"text-align: right;\">\n",
              "      <th></th>\n",
              "      <th>rusher</th>\n",
              "      <th>posteam</th>\n",
              "      <th>play_id</th>\n",
              "    </tr>\n",
              "  </thead>\n",
              "  <tbody>\n",
              "    <tr>\n",
              "      <th>0</th>\n",
              "      <td>E.Elliott</td>\n",
              "      <td>DAL</td>\n",
              "      <td>9</td>\n",
              "    </tr>\n",
              "    <tr>\n",
              "      <th>1</th>\n",
              "      <td>J.Howard</td>\n",
              "      <td>MIA</td>\n",
              "      <td>8</td>\n",
              "    </tr>\n",
              "    <tr>\n",
              "      <th>2</th>\n",
              "      <td>D.Henry</td>\n",
              "      <td>TEN</td>\n",
              "      <td>6</td>\n",
              "    </tr>\n",
              "    <tr>\n",
              "      <th>3</th>\n",
              "      <td>P.Barber</td>\n",
              "      <td>WAS</td>\n",
              "      <td>6</td>\n",
              "    </tr>\n",
              "    <tr>\n",
              "      <th>4</th>\n",
              "      <td>A.Jones</td>\n",
              "      <td>GB</td>\n",
              "      <td>6</td>\n",
              "    </tr>\n",
              "    <tr>\n",
              "      <th>5</th>\n",
              "      <td>C.Edwards-Helaire</td>\n",
              "      <td>KC</td>\n",
              "      <td>6</td>\n",
              "    </tr>\n",
              "    <tr>\n",
              "      <th>6</th>\n",
              "      <td>D.Cook</td>\n",
              "      <td>MIN</td>\n",
              "      <td>5</td>\n",
              "    </tr>\n",
              "    <tr>\n",
              "      <th>7</th>\n",
              "      <td>C.Newton</td>\n",
              "      <td>NE</td>\n",
              "      <td>5</td>\n",
              "    </tr>\n",
              "    <tr>\n",
              "      <th>8</th>\n",
              "      <td>A.Gibson</td>\n",
              "      <td>WAS</td>\n",
              "      <td>5</td>\n",
              "    </tr>\n",
              "    <tr>\n",
              "      <th>9</th>\n",
              "      <td>C.Carson</td>\n",
              "      <td>SEA</td>\n",
              "      <td>5</td>\n",
              "    </tr>\n",
              "    <tr>\n",
              "      <th>10</th>\n",
              "      <td>T.Gurley</td>\n",
              "      <td>ATL</td>\n",
              "      <td>5</td>\n",
              "    </tr>\n",
              "    <tr>\n",
              "      <th>11</th>\n",
              "      <td>A.Kamara</td>\n",
              "      <td>NO</td>\n",
              "      <td>5</td>\n",
              "    </tr>\n",
              "  </tbody>\n",
              "</table>\n",
              "</div>"
            ],
            "text/plain": [
              "               rusher posteam  play_id\n",
              "0           E.Elliott     DAL        9\n",
              "1            J.Howard     MIA        8\n",
              "2             D.Henry     TEN        6\n",
              "3            P.Barber     WAS        6\n",
              "4             A.Jones      GB        6\n",
              "5   C.Edwards-Helaire      KC        6\n",
              "6              D.Cook     MIN        5\n",
              "7            C.Newton      NE        5\n",
              "8            A.Gibson     WAS        5\n",
              "9            C.Carson     SEA        5\n",
              "10           T.Gurley     ATL        5\n",
              "11           A.Kamara      NO        5"
            ]
          },
          "metadata": {
            "tags": []
          },
          "execution_count": 20
        }
      ]
    },
    {
      "cell_type": "code",
      "metadata": {
        "id": "by-BZ8u4OfbQ",
        "outputId": "ef67971e-0d02-48d7-da14-d3ba474831a4",
        "colab": {
          "base_uri": "https://localhost:8080/",
          "height": 137
        }
      },
      "source": [
        "carries_5[(carries_5.posteam=='ARI')]"
      ],
      "execution_count": 21,
      "outputs": [
        {
          "output_type": "execute_result",
          "data": {
            "text/html": [
              "<div>\n",
              "<style scoped>\n",
              "    .dataframe tbody tr th:only-of-type {\n",
              "        vertical-align: middle;\n",
              "    }\n",
              "\n",
              "    .dataframe tbody tr th {\n",
              "        vertical-align: top;\n",
              "    }\n",
              "\n",
              "    .dataframe thead th {\n",
              "        text-align: right;\n",
              "    }\n",
              "</style>\n",
              "<table border=\"1\" class=\"dataframe\">\n",
              "  <thead>\n",
              "    <tr style=\"text-align: right;\">\n",
              "      <th></th>\n",
              "      <th>rusher</th>\n",
              "      <th>posteam</th>\n",
              "      <th>play_id</th>\n",
              "    </tr>\n",
              "  </thead>\n",
              "  <tbody>\n",
              "    <tr>\n",
              "      <th>31</th>\n",
              "      <td>K.Drake</td>\n",
              "      <td>ARI</td>\n",
              "      <td>2</td>\n",
              "    </tr>\n",
              "    <tr>\n",
              "      <th>42</th>\n",
              "      <td>C.Edmonds</td>\n",
              "      <td>ARI</td>\n",
              "      <td>1</td>\n",
              "    </tr>\n",
              "    <tr>\n",
              "      <th>68</th>\n",
              "      <td>K.Murray</td>\n",
              "      <td>ARI</td>\n",
              "      <td>1</td>\n",
              "    </tr>\n",
              "  </tbody>\n",
              "</table>\n",
              "</div>"
            ],
            "text/plain": [
              "       rusher posteam  play_id\n",
              "31    K.Drake     ARI        2\n",
              "42  C.Edmonds     ARI        1\n",
              "68   K.Murray     ARI        1"
            ]
          },
          "metadata": {
            "tags": []
          },
          "execution_count": 21
        }
      ]
    },
    {
      "cell_type": "markdown",
      "metadata": {
        "id": "FSVyRp4gboxL"
      },
      "source": [
        "This is not good for Kenyan Drake managers..."
      ]
    },
    {
      "cell_type": "markdown",
      "metadata": {
        "id": "Y0vkJkufSLCq"
      },
      "source": [
        "##Adding Custom Fields of Data\n",
        "\n",
        "###Calculating Fantasy Points\n",
        "\n",
        "With all of the fields in the pbp data, the sky is truly the limit in terms of creativity. For this tutorial, I figured a fun example of this would be to create a field of fantasy points. We can leverage multiple columns to calculate the fantasy points of each play and combine them to create player totals!\n",
        "\n",
        "To start, we are going to create a new dataframe `df1` by subsetting our base data. We are creating a new one here instead of reusing `df` because we want to include two point conversions as they count towards fantasy points."
      ]
    },
    {
      "cell_type": "code",
      "metadata": {
        "id": "daZ0HzuL5mXc",
        "outputId": "f4d8b0b8-dfad-4d9c-a936-f51d1a360705",
        "colab": {
          "base_uri": "https://localhost:8080/",
          "height": 403
        }
      },
      "source": [
        "df1 = data[\n",
        "          (data.play_type.isin(['no_play','pass','run'])) &\n",
        "          (data['epa'].isna()==False) &\n",
        "          (data['week']<=4)\n",
        "          ]\n",
        "\n",
        "df1.sample(3)"
      ],
      "execution_count": 22,
      "outputs": [
        {
          "output_type": "execute_result",
          "data": {
            "text/html": [
              "<div>\n",
              "<style scoped>\n",
              "    .dataframe tbody tr th:only-of-type {\n",
              "        vertical-align: middle;\n",
              "    }\n",
              "\n",
              "    .dataframe tbody tr th {\n",
              "        vertical-align: top;\n",
              "    }\n",
              "\n",
              "    .dataframe thead th {\n",
              "        text-align: right;\n",
              "    }\n",
              "</style>\n",
              "<table border=\"1\" class=\"dataframe\">\n",
              "  <thead>\n",
              "    <tr style=\"text-align: right;\">\n",
              "      <th></th>\n",
              "      <th>play_id</th>\n",
              "      <th>game_id</th>\n",
              "      <th>old_game_id</th>\n",
              "      <th>home_team</th>\n",
              "      <th>away_team</th>\n",
              "      <th>season_type</th>\n",
              "      <th>week</th>\n",
              "      <th>posteam</th>\n",
              "      <th>posteam_type</th>\n",
              "      <th>defteam</th>\n",
              "      <th>side_of_field</th>\n",
              "      <th>yardline_100</th>\n",
              "      <th>game_date</th>\n",
              "      <th>quarter_seconds_remaining</th>\n",
              "      <th>half_seconds_remaining</th>\n",
              "      <th>game_seconds_remaining</th>\n",
              "      <th>game_half</th>\n",
              "      <th>quarter_end</th>\n",
              "      <th>drive</th>\n",
              "      <th>sp</th>\n",
              "      <th>qtr</th>\n",
              "      <th>down</th>\n",
              "      <th>goal_to_go</th>\n",
              "      <th>time</th>\n",
              "      <th>yrdln</th>\n",
              "      <th>ydstogo</th>\n",
              "      <th>ydsnet</th>\n",
              "      <th>desc</th>\n",
              "      <th>play_type</th>\n",
              "      <th>yards_gained</th>\n",
              "      <th>shotgun</th>\n",
              "      <th>no_huddle</th>\n",
              "      <th>qb_dropback</th>\n",
              "      <th>qb_kneel</th>\n",
              "      <th>qb_spike</th>\n",
              "      <th>qb_scramble</th>\n",
              "      <th>pass_length</th>\n",
              "      <th>pass_location</th>\n",
              "      <th>air_yards</th>\n",
              "      <th>yards_after_catch</th>\n",
              "      <th>...</th>\n",
              "      <th>home_score</th>\n",
              "      <th>location</th>\n",
              "      <th>result</th>\n",
              "      <th>total</th>\n",
              "      <th>spread_line</th>\n",
              "      <th>total_line</th>\n",
              "      <th>div_game</th>\n",
              "      <th>roof</th>\n",
              "      <th>surface</th>\n",
              "      <th>temp</th>\n",
              "      <th>wind</th>\n",
              "      <th>home_coach</th>\n",
              "      <th>away_coach</th>\n",
              "      <th>stadium_id</th>\n",
              "      <th>game_stadium</th>\n",
              "      <th>success</th>\n",
              "      <th>passer</th>\n",
              "      <th>passer_jersey_number</th>\n",
              "      <th>rusher</th>\n",
              "      <th>rusher_jersey_number</th>\n",
              "      <th>receiver</th>\n",
              "      <th>receiver_jersey_number</th>\n",
              "      <th>pass</th>\n",
              "      <th>rush</th>\n",
              "      <th>first_down</th>\n",
              "      <th>aborted_play</th>\n",
              "      <th>special</th>\n",
              "      <th>play</th>\n",
              "      <th>passer_id</th>\n",
              "      <th>rusher_id</th>\n",
              "      <th>receiver_id</th>\n",
              "      <th>name</th>\n",
              "      <th>jersey_number</th>\n",
              "      <th>id</th>\n",
              "      <th>qb_epa</th>\n",
              "      <th>xyac_epa</th>\n",
              "      <th>xyac_mean_yardage</th>\n",
              "      <th>xyac_median_yardage</th>\n",
              "      <th>xyac_success</th>\n",
              "      <th>xyac_fd</th>\n",
              "    </tr>\n",
              "  </thead>\n",
              "  <tbody>\n",
              "    <tr>\n",
              "      <th>176</th>\n",
              "      <td>4394</td>\n",
              "      <td>2020_01_ARI_SF</td>\n",
              "      <td>2020091311</td>\n",
              "      <td>SF</td>\n",
              "      <td>ARI</td>\n",
              "      <td>REG</td>\n",
              "      <td>1</td>\n",
              "      <td>SF</td>\n",
              "      <td>home</td>\n",
              "      <td>ARI</td>\n",
              "      <td>ARI</td>\n",
              "      <td>30.0</td>\n",
              "      <td>2020-09-13</td>\n",
              "      <td>103.0</td>\n",
              "      <td>103.0</td>\n",
              "      <td>103.0</td>\n",
              "      <td>Half2</td>\n",
              "      <td>0</td>\n",
              "      <td>22.0</td>\n",
              "      <td>0</td>\n",
              "      <td>4</td>\n",
              "      <td>2.0</td>\n",
              "      <td>0</td>\n",
              "      <td>01:43</td>\n",
              "      <td>ARI 30</td>\n",
              "      <td>8</td>\n",
              "      <td>59.0</td>\n",
              "      <td>(1:43) (No Huddle, Shotgun) 10-J.Garoppolo pas...</td>\n",
              "      <td>pass</td>\n",
              "      <td>9.0</td>\n",
              "      <td>1</td>\n",
              "      <td>1</td>\n",
              "      <td>1.0</td>\n",
              "      <td>0</td>\n",
              "      <td>0</td>\n",
              "      <td>0</td>\n",
              "      <td>short</td>\n",
              "      <td>left</td>\n",
              "      <td>5.0</td>\n",
              "      <td>4.0</td>\n",
              "      <td>...</td>\n",
              "      <td>20</td>\n",
              "      <td>Home</td>\n",
              "      <td>-4</td>\n",
              "      <td>44</td>\n",
              "      <td>7.0</td>\n",
              "      <td>48.5</td>\n",
              "      <td>1</td>\n",
              "      <td>outdoors</td>\n",
              "      <td>NaN</td>\n",
              "      <td>NaN</td>\n",
              "      <td>NaN</td>\n",
              "      <td>Kyle Shanahan</td>\n",
              "      <td>Kliff Kingsbury</td>\n",
              "      <td>SFO01</td>\n",
              "      <td>Levi's Stadium</td>\n",
              "      <td>1.0</td>\n",
              "      <td>J.Garoppolo</td>\n",
              "      <td>10.0</td>\n",
              "      <td>NaN</td>\n",
              "      <td>NaN</td>\n",
              "      <td>R.Mostert</td>\n",
              "      <td>31.0</td>\n",
              "      <td>1</td>\n",
              "      <td>0</td>\n",
              "      <td>1.0</td>\n",
              "      <td>0</td>\n",
              "      <td>0</td>\n",
              "      <td>1</td>\n",
              "      <td>32013030-2d30-3033-3133-34353afe165e</td>\n",
              "      <td>NaN</td>\n",
              "      <td>32013030-2d30-3033-3136-3837aa36ac48</td>\n",
              "      <td>J.Garoppolo</td>\n",
              "      <td>10.0</td>\n",
              "      <td>32013030-2d30-3033-3133-34353afe165e</td>\n",
              "      <td>1.171648</td>\n",
              "      <td>0.571812</td>\n",
              "      <td>3.780613</td>\n",
              "      <td>2.0</td>\n",
              "      <td>0.997544</td>\n",
              "      <td>0.426892</td>\n",
              "    </tr>\n",
              "    <tr>\n",
              "      <th>10514</th>\n",
              "      <td>1821</td>\n",
              "      <td>2020_04_MIN_HOU</td>\n",
              "      <td>2020100405</td>\n",
              "      <td>HOU</td>\n",
              "      <td>MIN</td>\n",
              "      <td>REG</td>\n",
              "      <td>4</td>\n",
              "      <td>HOU</td>\n",
              "      <td>home</td>\n",
              "      <td>MIN</td>\n",
              "      <td>MIN</td>\n",
              "      <td>10.0</td>\n",
              "      <td>2020-10-04</td>\n",
              "      <td>42.0</td>\n",
              "      <td>42.0</td>\n",
              "      <td>1842.0</td>\n",
              "      <td>Half1</td>\n",
              "      <td>0</td>\n",
              "      <td>10.0</td>\n",
              "      <td>0</td>\n",
              "      <td>2</td>\n",
              "      <td>2.0</td>\n",
              "      <td>1</td>\n",
              "      <td>00:42</td>\n",
              "      <td>MIN 10</td>\n",
              "      <td>10</td>\n",
              "      <td>58.0</td>\n",
              "      <td>(:42) (No Huddle, Shotgun) 4-D.Watson pass inc...</td>\n",
              "      <td>pass</td>\n",
              "      <td>0.0</td>\n",
              "      <td>1</td>\n",
              "      <td>1</td>\n",
              "      <td>1.0</td>\n",
              "      <td>0</td>\n",
              "      <td>0</td>\n",
              "      <td>0</td>\n",
              "      <td>short</td>\n",
              "      <td>right</td>\n",
              "      <td>10.0</td>\n",
              "      <td>NaN</td>\n",
              "      <td>...</td>\n",
              "      <td>23</td>\n",
              "      <td>Home</td>\n",
              "      <td>-8</td>\n",
              "      <td>54</td>\n",
              "      <td>3.5</td>\n",
              "      <td>52.5</td>\n",
              "      <td>0</td>\n",
              "      <td>NaN</td>\n",
              "      <td>NaN</td>\n",
              "      <td>NaN</td>\n",
              "      <td>NaN</td>\n",
              "      <td>Bill O'Brien</td>\n",
              "      <td>Mike Zimmer</td>\n",
              "      <td>HOU00</td>\n",
              "      <td>NRG Stadium</td>\n",
              "      <td>0.0</td>\n",
              "      <td>D.Watson</td>\n",
              "      <td>4.0</td>\n",
              "      <td>NaN</td>\n",
              "      <td>NaN</td>\n",
              "      <td>R.Cobb</td>\n",
              "      <td>18.0</td>\n",
              "      <td>1</td>\n",
              "      <td>0</td>\n",
              "      <td>0.0</td>\n",
              "      <td>0</td>\n",
              "      <td>0</td>\n",
              "      <td>1</td>\n",
              "      <td>32013030-2d30-3033-3335-33372bbab8b8</td>\n",
              "      <td>NaN</td>\n",
              "      <td>32013030-2d30-3032-3830-303218eca9b5</td>\n",
              "      <td>D.Watson</td>\n",
              "      <td>4.0</td>\n",
              "      <td>32013030-2d30-3033-3335-33372bbab8b8</td>\n",
              "      <td>-0.654464</td>\n",
              "      <td>NaN</td>\n",
              "      <td>NaN</td>\n",
              "      <td>NaN</td>\n",
              "      <td>NaN</td>\n",
              "      <td>NaN</td>\n",
              "    </tr>\n",
              "    <tr>\n",
              "      <th>833</th>\n",
              "      <td>2065</td>\n",
              "      <td>2020_01_GB_MIN</td>\n",
              "      <td>2020091306</td>\n",
              "      <td>MIN</td>\n",
              "      <td>GB</td>\n",
              "      <td>REG</td>\n",
              "      <td>1</td>\n",
              "      <td>MIN</td>\n",
              "      <td>home</td>\n",
              "      <td>GB</td>\n",
              "      <td>MIN</td>\n",
              "      <td>63.0</td>\n",
              "      <td>2020-09-13</td>\n",
              "      <td>866.0</td>\n",
              "      <td>1766.0</td>\n",
              "      <td>1766.0</td>\n",
              "      <td>Half2</td>\n",
              "      <td>0</td>\n",
              "      <td>11.0</td>\n",
              "      <td>0</td>\n",
              "      <td>3</td>\n",
              "      <td>1.0</td>\n",
              "      <td>0</td>\n",
              "      <td>14:26</td>\n",
              "      <td>MIN 37</td>\n",
              "      <td>10</td>\n",
              "      <td>26.0</td>\n",
              "      <td>(14:26) 33-D.Cook up the middle to MIN 46 for ...</td>\n",
              "      <td>run</td>\n",
              "      <td>9.0</td>\n",
              "      <td>0</td>\n",
              "      <td>0</td>\n",
              "      <td>0.0</td>\n",
              "      <td>0</td>\n",
              "      <td>0</td>\n",
              "      <td>0</td>\n",
              "      <td>NaN</td>\n",
              "      <td>NaN</td>\n",
              "      <td>NaN</td>\n",
              "      <td>NaN</td>\n",
              "      <td>...</td>\n",
              "      <td>34</td>\n",
              "      <td>Home</td>\n",
              "      <td>-9</td>\n",
              "      <td>77</td>\n",
              "      <td>1.0</td>\n",
              "      <td>45.0</td>\n",
              "      <td>1</td>\n",
              "      <td>dome</td>\n",
              "      <td>NaN</td>\n",
              "      <td>NaN</td>\n",
              "      <td>NaN</td>\n",
              "      <td>Mike Zimmer</td>\n",
              "      <td>Matt LaFleur</td>\n",
              "      <td>MIN01</td>\n",
              "      <td>U.S. Bank Stadium</td>\n",
              "      <td>1.0</td>\n",
              "      <td>NaN</td>\n",
              "      <td>NaN</td>\n",
              "      <td>D.Cook</td>\n",
              "      <td>33.0</td>\n",
              "      <td>NaN</td>\n",
              "      <td>NaN</td>\n",
              "      <td>0</td>\n",
              "      <td>1</td>\n",
              "      <td>0.0</td>\n",
              "      <td>0</td>\n",
              "      <td>0</td>\n",
              "      <td>1</td>\n",
              "      <td>NaN</td>\n",
              "      <td>32013030-2d30-3033-3338-39337f9ee497</td>\n",
              "      <td>NaN</td>\n",
              "      <td>D.Cook</td>\n",
              "      <td>33.0</td>\n",
              "      <td>32013030-2d30-3033-3338-39337f9ee497</td>\n",
              "      <td>0.762521</td>\n",
              "      <td>NaN</td>\n",
              "      <td>NaN</td>\n",
              "      <td>NaN</td>\n",
              "      <td>NaN</td>\n",
              "      <td>NaN</td>\n",
              "    </tr>\n",
              "  </tbody>\n",
              "</table>\n",
              "<p>3 rows × 340 columns</p>\n",
              "</div>"
            ],
            "text/plain": [
              "       play_id          game_id  ...  xyac_success   xyac_fd\n",
              "176       4394   2020_01_ARI_SF  ...      0.997544  0.426892\n",
              "10514     1821  2020_04_MIN_HOU  ...           NaN       NaN\n",
              "833       2065   2020_01_GB_MIN  ...           NaN       NaN\n",
              "\n",
              "[3 rows x 340 columns]"
            ]
          },
          "metadata": {
            "tags": []
          },
          "execution_count": 22
        }
      ]
    },
    {
      "cell_type": "markdown",
      "metadata": {
        "id": "zRuY4Z004gzJ"
      },
      "source": [
        "Looks good! Now, there is an issue regarding two point conversions in nflfastR... The column `two_point_conv_result` is a string indicator of success or failure. We can't do mathematical opperations on string values since computers don't possess the intuitive capability to understand that success is 1 and failure is 0. Thus, we need to do some One-Hot Encoding. More on that below!"
      ]
    },
    {
      "cell_type": "markdown",
      "metadata": {
        "id": "GrNhTyJg3EAQ"
      },
      "source": [
        "###One-Hot Encoding\n",
        "\n",
        "Simply put, one-hot encoding is representing data in a way the machine can understand it. This is a lot easier than it sounds with the help of pandas! We can use the method `pd.get_dummies()` to create new columns for the values within a single column. Let's see an example."
      ]
    },
    {
      "cell_type": "code",
      "metadata": {
        "id": "2G0F4DU-5y4N",
        "outputId": "06468449-9c71-46f5-f32b-68a01b699fb0",
        "colab": {
          "base_uri": "https://localhost:8080/",
          "height": 34
        }
      },
      "source": [
        "df1.two_point_conv_result.unique()"
      ],
      "execution_count": 23,
      "outputs": [
        {
          "output_type": "execute_result",
          "data": {
            "text/plain": [
              "array([nan, 'success', 'failure'], dtype=object)"
            ]
          },
          "metadata": {
            "tags": []
          },
          "execution_count": 23
        }
      ]
    },
    {
      "cell_type": "markdown",
      "metadata": {
        "id": "4P4vQNRu54xx"
      },
      "source": [
        "The unique values in `two_point_conv_result` are `nan` (there was no attempt), `success`, and `failure`. All we have to do to one-hot encode this column is to pass it into the get dummies method mentioned above and it will create two new columns for us, `two_point_conv_result_failure` and `two_point_conv_result_success`! These columns will consist of binary 0's and 1's just like many other nflfastR fields with the former meaning a failure and the latter meaning success. "
      ]
    },
    {
      "cell_type": "code",
      "metadata": {
        "id": "DxSSIW-t242Q"
      },
      "source": [
        "df1  = pd.get_dummies(df1, columns=['two_point_conv_result'])"
      ],
      "execution_count": 24,
      "outputs": []
    },
    {
      "cell_type": "markdown",
      "metadata": {
        "id": "-zlaO_MS6wnX"
      },
      "source": [
        "That's all there is to it! We have one-hot encoded our data. Saying that makes us sounds extra smart 😂 . It's a very good skill to have when working with data and is very easy to pull off. To get a quick glimpse at what this did, we can run the following code."
      ]
    },
    {
      "cell_type": "code",
      "metadata": {
        "id": "_pIgCXoS7JQV",
        "outputId": "4bf018aa-6dba-4320-9dd8-962d756c065c",
        "colab": {
          "base_uri": "https://localhost:8080/",
          "height": 214
        }
      },
      "source": [
        "#this just allows us to see the full length of a column\n",
        "#so we can read the whole play description\n",
        "pd.set_option('display.max_colwidth', None)\n",
        "\n",
        "cols = [\n",
        "        'desc',\n",
        "        'two_point_conv_result_success',\n",
        "        'two_point_conv_result_failure'\n",
        "        ]\n",
        "\n",
        "df1[cols][\n",
        "          (df1.two_point_conv_result_success == 1) |\n",
        "          (df1.two_point_conv_result_failure == 1)\n",
        "          ].sample(5)"
      ],
      "execution_count": 25,
      "outputs": [
        {
          "output_type": "execute_result",
          "data": {
            "text/html": [
              "<div>\n",
              "<style scoped>\n",
              "    .dataframe tbody tr th:only-of-type {\n",
              "        vertical-align: middle;\n",
              "    }\n",
              "\n",
              "    .dataframe tbody tr th {\n",
              "        vertical-align: top;\n",
              "    }\n",
              "\n",
              "    .dataframe thead th {\n",
              "        text-align: right;\n",
              "    }\n",
              "</style>\n",
              "<table border=\"1\" class=\"dataframe\">\n",
              "  <thead>\n",
              "    <tr style=\"text-align: right;\">\n",
              "      <th></th>\n",
              "      <th>desc</th>\n",
              "      <th>two_point_conv_result_success</th>\n",
              "      <th>two_point_conv_result_failure</th>\n",
              "    </tr>\n",
              "  </thead>\n",
              "  <tbody>\n",
              "    <tr>\n",
              "      <th>8179</th>\n",
              "      <td>(Kick formation) TWO-POINT CONVERSION ATTEMPT. 6-M.Wishnowsky pass is incomplete. ATTEMPT FAILS. Bad snap results in the failed attempt by 6-Wishnowsky.</td>\n",
              "      <td>0</td>\n",
              "      <td>1</td>\n",
              "    </tr>\n",
              "    <tr>\n",
              "      <th>8526</th>\n",
              "      <td>(Pass formation) TWO-POINT CONVERSION ATTEMPT. 17-R.Tannehill pass to 81-J.Smith is incomplete. ATTEMPT FAILS.</td>\n",
              "      <td>0</td>\n",
              "      <td>1</td>\n",
              "    </tr>\n",
              "    <tr>\n",
              "      <th>7174</th>\n",
              "      <td>(Pass formation) TWO-POINT CONVERSION ATTEMPT. 7-B.Roethlisberger pass to 19-J.Smith-Schuster is complete. ATTEMPT SUCCEEDS.</td>\n",
              "      <td>1</td>\n",
              "      <td>0</td>\n",
              "    </tr>\n",
              "    <tr>\n",
              "      <th>9652</th>\n",
              "      <td>(Run formation) TWO-POINT CONVERSION ATTEMPT. 19-A.Cooper rushes left end. ATTEMPT SUCCEEDS.</td>\n",
              "      <td>1</td>\n",
              "      <td>0</td>\n",
              "    </tr>\n",
              "    <tr>\n",
              "      <th>3080</th>\n",
              "      <td>(Run formation) TWO-POINT CONVERSION ATTEMPT. 21-E.Elliott rushes right end. ATTEMPT FAILS.</td>\n",
              "      <td>0</td>\n",
              "      <td>1</td>\n",
              "    </tr>\n",
              "  </tbody>\n",
              "</table>\n",
              "</div>"
            ],
            "text/plain": [
              "                                                                                                                                                          desc  ...  two_point_conv_result_failure\n",
              "8179  (Kick formation) TWO-POINT CONVERSION ATTEMPT. 6-M.Wishnowsky pass is incomplete. ATTEMPT FAILS. Bad snap results in the failed attempt by 6-Wishnowsky.  ...                              1\n",
              "8526                                            (Pass formation) TWO-POINT CONVERSION ATTEMPT. 17-R.Tannehill pass to 81-J.Smith is incomplete. ATTEMPT FAILS.  ...                              1\n",
              "7174                              (Pass formation) TWO-POINT CONVERSION ATTEMPT. 7-B.Roethlisberger pass to 19-J.Smith-Schuster is complete. ATTEMPT SUCCEEDS.  ...                              0\n",
              "9652                                                              (Run formation) TWO-POINT CONVERSION ATTEMPT. 19-A.Cooper rushes left end. ATTEMPT SUCCEEDS.  ...                              0\n",
              "3080                                                               (Run formation) TWO-POINT CONVERSION ATTEMPT. 21-E.Elliott rushes right end. ATTEMPT FAILS.  ...                              1\n",
              "\n",
              "[5 rows x 3 columns]"
            ]
          },
          "metadata": {
            "tags": []
          },
          "execution_count": 25
        }
      ]
    },
    {
      "cell_type": "markdown",
      "metadata": {
        "id": "xanQwIoY8I4G"
      },
      "source": [
        "Awesome! This is exactly what we wanted. With this now out of the way, we can begin calculating fantasy points for each play. We can create a new field `fpts_skill` to calculate the fantasy points for skill position players. We can take advantage of the binary nature of these fields by multiplying them by their fantasy points value.\n",
        "\n",
        "*I won't be calculating QB fantasy points in this tutourial; I don't want to make it longer than it needs to be. A fun project would be trying to calculate that on your own. With passes and runs having different fantasy point values, it would be a good challenge!* "
      ]
    },
    {
      "cell_type": "code",
      "metadata": {
        "id": "hIhZpktg4U9U"
      },
      "source": [
        "df1['fpts_skill'] = (\n",
        "    df1['yards_gained'] * 0.1 +\n",
        "    df1['complete_pass'] * 1 +\n",
        "    df1['touchdown'] * 6 +\n",
        "    df1['two_point_conv_result_success'] * 2 +\n",
        "    df1['fumble_lost'] * -2\n",
        "    )"
      ],
      "execution_count": 26,
      "outputs": []
    },
    {
      "cell_type": "markdown",
      "metadata": {
        "id": "TiVtXNYN9KG_"
      },
      "source": [
        "If your league has different values, feel free to alter the code. I just went with vanilla PPR league scoring. We can check to see if it worked by running the following code."
      ]
    },
    {
      "cell_type": "code",
      "metadata": {
        "id": "eK6uvxB7IA7O",
        "outputId": "f03d94db-15c0-4aa1-e417-ce699fb7ea46",
        "colab": {
          "base_uri": "https://localhost:8080/",
          "height": 197
        }
      },
      "source": [
        "cols = ['desc','yards_gained','fpts_skill']\n",
        "df1[cols].sample(5)"
      ],
      "execution_count": 28,
      "outputs": [
        {
          "output_type": "execute_result",
          "data": {
            "text/html": [
              "<div>\n",
              "<style scoped>\n",
              "    .dataframe tbody tr th:only-of-type {\n",
              "        vertical-align: middle;\n",
              "    }\n",
              "\n",
              "    .dataframe tbody tr th {\n",
              "        vertical-align: top;\n",
              "    }\n",
              "\n",
              "    .dataframe thead th {\n",
              "        text-align: right;\n",
              "    }\n",
              "</style>\n",
              "<table border=\"1\" class=\"dataframe\">\n",
              "  <thead>\n",
              "    <tr style=\"text-align: right;\">\n",
              "      <th></th>\n",
              "      <th>desc</th>\n",
              "      <th>yards_gained</th>\n",
              "      <th>fpts_skill</th>\n",
              "    </tr>\n",
              "  </thead>\n",
              "  <tbody>\n",
              "    <tr>\n",
              "      <th>26</th>\n",
              "      <td>(7:05) 1-K.Murray pass short right to 29-C.Edmonds for 10 yards, TOUCHDOWN. caught at SF 12, 12 YAC</td>\n",
              "      <td>10.0</td>\n",
              "      <td>8.0</td>\n",
              "    </tr>\n",
              "    <tr>\n",
              "      <th>6212</th>\n",
              "      <td>(3:19) 32-D.Montgomery right guard to ATL 30 for 8 yards (22-K.Neal).</td>\n",
              "      <td>8.0</td>\n",
              "      <td>0.8</td>\n",
              "    </tr>\n",
              "    <tr>\n",
              "      <th>5988</th>\n",
              "      <td>(9:57) (Shotgun) 10-J.Herbert pass short right to 86-H.Henry to LAC 37 for 6 yards (21-J.Chinn; 29-C.Elder).</td>\n",
              "      <td>6.0</td>\n",
              "      <td>1.6</td>\n",
              "    </tr>\n",
              "    <tr>\n",
              "      <th>3614</th>\n",
              "      <td>(7:07) (Shotgun) 12-T.Brady pass short right to 28-L.Fournette to CAR 15 for -1 yards (24-R.Douglas).</td>\n",
              "      <td>-1.0</td>\n",
              "      <td>0.9</td>\n",
              "    </tr>\n",
              "    <tr>\n",
              "      <th>1744</th>\n",
              "      <td>(11:48) 68-R.Hunt reported in as eligible.  34-J.Howard left guard to NE 2 for -1 yards (21-A.Phillips, 99-B.Cowart).</td>\n",
              "      <td>-1.0</td>\n",
              "      <td>-0.1</td>\n",
              "    </tr>\n",
              "  </tbody>\n",
              "</table>\n",
              "</div>"
            ],
            "text/plain": [
              "                                                                                                                       desc  ...  fpts_skill\n",
              "26                      (7:05) 1-K.Murray pass short right to 29-C.Edmonds for 10 yards, TOUCHDOWN. caught at SF 12, 12 YAC  ...         8.0\n",
              "6212                                                  (3:19) 32-D.Montgomery right guard to ATL 30 for 8 yards (22-K.Neal).  ...         0.8\n",
              "5988           (9:57) (Shotgun) 10-J.Herbert pass short right to 86-H.Henry to LAC 37 for 6 yards (21-J.Chinn; 29-C.Elder).  ...         1.6\n",
              "3614                  (7:07) (Shotgun) 12-T.Brady pass short right to 28-L.Fournette to CAR 15 for -1 yards (24-R.Douglas).  ...         0.9\n",
              "1744  (11:48) 68-R.Hunt reported in as eligible.  34-J.Howard left guard to NE 2 for -1 yards (21-A.Phillips, 99-B.Cowart).  ...        -0.1\n",
              "\n",
              "[5 rows x 3 columns]"
            ]
          },
          "metadata": {
            "tags": []
          },
          "execution_count": 28
        }
      ]
    },
    {
      "cell_type": "markdown",
      "metadata": {
        "id": "CMOiB4m_9Yf1"
      },
      "source": [
        "Perfect! Looks good. Now we have the fantasy point value for each play in our data. Feel free to explore these values using any of the methods we have covered thus far. For now, I'm going to move right into gathering totals for each player.\n",
        "\n",
        "if a player catches a pass, they are the `receiver` value, and if they rush, they are the `rusher` value for any given play. Thus, we have to calculate receiving both receiving and rushing fantasy points and combine them to get grand totals. First, we will calculate receiving using *split*, *apply*, *combine*."
      ]
    },
    {
      "cell_type": "code",
      "metadata": {
        "id": "9ruF4KYrL66U"
      },
      "source": [
        "receiving_fpts = (df1.groupby(\n",
        "    ['receiver','posteam']\n",
        "    )[['fpts_skill']]\n",
        "    .sum()\n",
        "    .reset_index()\n",
        "    .sort_values(by='fpts_skill',ascending=False)\n",
        "    .reset_index(drop=True)\n",
        "    .rename(columns={'receiver':'player'}))"
      ],
      "execution_count": 29,
      "outputs": []
    },
    {
      "cell_type": "markdown",
      "metadata": {
        "id": "4pdGnaSG-ORV"
      },
      "source": [
        "And then the same for rushing."
      ]
    },
    {
      "cell_type": "code",
      "metadata": {
        "id": "McXoJg-2zSQI"
      },
      "source": [
        "rushing_fpts = (df1.groupby(\n",
        "    ['rusher','posteam']\n",
        "    )[['fpts_skill']]\n",
        "    .sum()\n",
        "    .reset_index()\n",
        "    .sort_values(by='fpts_skill',ascending=False)\n",
        "    .reset_index(drop=True)\n",
        "    .rename(columns={'rusher':'player'}))"
      ],
      "execution_count": 30,
      "outputs": []
    },
    {
      "cell_type": "markdown",
      "metadata": {
        "id": "0u36U7G6-eIx"
      },
      "source": [
        "Now we can merge them on similar columns to get a dataset consisting of receiving and rushing fantasy points for each player using the `pd.merge()` method."
      ]
    },
    {
      "cell_type": "code",
      "metadata": {
        "id": "gbxVBFD80A_f",
        "outputId": "8bfd480d-9aaa-4dec-fb83-6f73f23b1469",
        "colab": {
          "base_uri": "https://localhost:8080/",
          "height": 197
        }
      },
      "source": [
        "fpts_skill = pd.merge(\n",
        "    receiving_fpts, rushing_fpts, on=['player','posteam'], how='outer'\n",
        "    ).fillna(0)\n",
        "\n",
        "fpts_skill.head()"
      ],
      "execution_count": 31,
      "outputs": [
        {
          "output_type": "execute_result",
          "data": {
            "text/html": [
              "<div>\n",
              "<style scoped>\n",
              "    .dataframe tbody tr th:only-of-type {\n",
              "        vertical-align: middle;\n",
              "    }\n",
              "\n",
              "    .dataframe tbody tr th {\n",
              "        vertical-align: top;\n",
              "    }\n",
              "\n",
              "    .dataframe thead th {\n",
              "        text-align: right;\n",
              "    }\n",
              "</style>\n",
              "<table border=\"1\" class=\"dataframe\">\n",
              "  <thead>\n",
              "    <tr style=\"text-align: right;\">\n",
              "      <th></th>\n",
              "      <th>player</th>\n",
              "      <th>posteam</th>\n",
              "      <th>fpts_skill_x</th>\n",
              "      <th>fpts_skill_y</th>\n",
              "    </tr>\n",
              "  </thead>\n",
              "  <tbody>\n",
              "    <tr>\n",
              "      <th>0</th>\n",
              "      <td>D.Hopkins</td>\n",
              "      <td>ARI</td>\n",
              "      <td>84.7</td>\n",
              "      <td>0.0</td>\n",
              "    </tr>\n",
              "    <tr>\n",
              "      <th>1</th>\n",
              "      <td>A.Cooper</td>\n",
              "      <td>DAL</td>\n",
              "      <td>83.1</td>\n",
              "      <td>2.2</td>\n",
              "    </tr>\n",
              "    <tr>\n",
              "      <th>2</th>\n",
              "      <td>A.Kamara</td>\n",
              "      <td>NO</td>\n",
              "      <td>80.1</td>\n",
              "      <td>47.6</td>\n",
              "    </tr>\n",
              "    <tr>\n",
              "      <th>3</th>\n",
              "      <td>C.Ridley</td>\n",
              "      <td>ATL</td>\n",
              "      <td>79.9</td>\n",
              "      <td>0.6</td>\n",
              "    </tr>\n",
              "    <tr>\n",
              "      <th>4</th>\n",
              "      <td>T.Lockett</td>\n",
              "      <td>SEA</td>\n",
              "      <td>79.8</td>\n",
              "      <td>0.0</td>\n",
              "    </tr>\n",
              "  </tbody>\n",
              "</table>\n",
              "</div>"
            ],
            "text/plain": [
              "      player posteam  fpts_skill_x  fpts_skill_y\n",
              "0  D.Hopkins     ARI          84.7           0.0\n",
              "1   A.Cooper     DAL          83.1           2.2\n",
              "2   A.Kamara      NO          80.1          47.6\n",
              "3   C.Ridley     ATL          79.9           0.6\n",
              "4  T.Lockett     SEA          79.8           0.0"
            ]
          },
          "metadata": {
            "tags": []
          },
          "execution_count": 31
        }
      ]
    },
    {
      "cell_type": "markdown",
      "metadata": {
        "id": "WxIW_V4m-v0R"
      },
      "source": [
        "Now, the last step is to simply calculate `total_fpts` by adding the receiving and rushing totals for each player!\n",
        "\n",
        "*Again, for the sake of this tutorial getting too long, I did not include passing points for skill position players. Sorry Jarvis Landry! Feel free to add this in on your own using the necessary code above!*"
      ]
    },
    {
      "cell_type": "code",
      "metadata": {
        "id": "itQmot9O1pOF",
        "outputId": "3129abd0-c958-4261-9960-e1f80f0dc0ff",
        "colab": {
          "base_uri": "https://localhost:8080/",
          "height": 197
        }
      },
      "source": [
        "fpts_skill['total_fpts'] = (\n",
        "    fpts_skill['fpts_skill_x'] + \n",
        "    fpts_skill['fpts_skill_y']\n",
        "    )\n",
        "\n",
        "fpts_skill.head()"
      ],
      "execution_count": 32,
      "outputs": [
        {
          "output_type": "execute_result",
          "data": {
            "text/html": [
              "<div>\n",
              "<style scoped>\n",
              "    .dataframe tbody tr th:only-of-type {\n",
              "        vertical-align: middle;\n",
              "    }\n",
              "\n",
              "    .dataframe tbody tr th {\n",
              "        vertical-align: top;\n",
              "    }\n",
              "\n",
              "    .dataframe thead th {\n",
              "        text-align: right;\n",
              "    }\n",
              "</style>\n",
              "<table border=\"1\" class=\"dataframe\">\n",
              "  <thead>\n",
              "    <tr style=\"text-align: right;\">\n",
              "      <th></th>\n",
              "      <th>player</th>\n",
              "      <th>posteam</th>\n",
              "      <th>fpts_skill_x</th>\n",
              "      <th>fpts_skill_y</th>\n",
              "      <th>total_fpts</th>\n",
              "    </tr>\n",
              "  </thead>\n",
              "  <tbody>\n",
              "    <tr>\n",
              "      <th>0</th>\n",
              "      <td>D.Hopkins</td>\n",
              "      <td>ARI</td>\n",
              "      <td>84.7</td>\n",
              "      <td>0.0</td>\n",
              "      <td>84.7</td>\n",
              "    </tr>\n",
              "    <tr>\n",
              "      <th>1</th>\n",
              "      <td>A.Cooper</td>\n",
              "      <td>DAL</td>\n",
              "      <td>83.1</td>\n",
              "      <td>2.2</td>\n",
              "      <td>85.3</td>\n",
              "    </tr>\n",
              "    <tr>\n",
              "      <th>2</th>\n",
              "      <td>A.Kamara</td>\n",
              "      <td>NO</td>\n",
              "      <td>80.1</td>\n",
              "      <td>47.6</td>\n",
              "      <td>127.7</td>\n",
              "    </tr>\n",
              "    <tr>\n",
              "      <th>3</th>\n",
              "      <td>C.Ridley</td>\n",
              "      <td>ATL</td>\n",
              "      <td>79.9</td>\n",
              "      <td>0.6</td>\n",
              "      <td>80.5</td>\n",
              "    </tr>\n",
              "    <tr>\n",
              "      <th>4</th>\n",
              "      <td>T.Lockett</td>\n",
              "      <td>SEA</td>\n",
              "      <td>79.8</td>\n",
              "      <td>0.0</td>\n",
              "      <td>79.8</td>\n",
              "    </tr>\n",
              "  </tbody>\n",
              "</table>\n",
              "</div>"
            ],
            "text/plain": [
              "      player posteam  fpts_skill_x  fpts_skill_y  total_fpts\n",
              "0  D.Hopkins     ARI          84.7           0.0        84.7\n",
              "1   A.Cooper     DAL          83.1           2.2        85.3\n",
              "2   A.Kamara      NO          80.1          47.6       127.7\n",
              "3   C.Ridley     ATL          79.9           0.6        80.5\n",
              "4  T.Lockett     SEA          79.8           0.0        79.8"
            ]
          },
          "metadata": {
            "tags": []
          },
          "execution_count": 32
        }
      ]
    },
    {
      "cell_type": "markdown",
      "metadata": {
        "id": "dwTwTqsK_MNd"
      },
      "source": [
        "And there we have it, total fantasy points for each player! Due to some very minor discrepancies, some players might be ~ +/- 0.2 fantasy points of the total listed on some fantasy football sites. This could be due to something out of our control like different data sources etc.. Not something to fret over by any means."
      ]
    },
    {
      "cell_type": "markdown",
      "metadata": {
        "id": "kJKWagLdUD35"
      },
      "source": [
        "#Part 4 - Data Viz! 📊\n",
        "\n",
        "##Basic Visualization\n",
        "\n",
        "Arguably the best part of doing football/fantasy analytics is the data viz. We've done all the dirty work scraping, formatting, and analyzing our data; now we get to make it look pretty! For this basic viz we are going to use the `fpts_skill` data from Part 3. We can plot PPR points as a function of a variety of metrics to see how significant they are in terms of fantasy production!\n",
        "\n",
        "Before we start, we need to calculate the metrics we are going to compare fantasy points too. The following code does this. We are using `df` instead of `df1` this time since two point conversion attempts don't count as targets or air yards."
      ]
    },
    {
      "cell_type": "code",
      "metadata": {
        "id": "EsN_d8mICR13",
        "outputId": "62565bf7-4ef4-4281-faf7-e19840fb51ad",
        "colab": {
          "base_uri": "https://localhost:8080/",
          "height": 347
        }
      },
      "source": [
        "metrics = (\n",
        "    df[\n",
        "       (df.play_type=='pass')\n",
        "       ]\n",
        "       .groupby(['receiver','posteam'])\n",
        "       .agg({'play_id':'count','air_yards':'sum','complete_pass':'sum'})\n",
        "       .reset_index()\n",
        "       .sort_values(by=['air_yards'],ascending=False)\n",
        "       .reset_index(drop=True)\n",
        "       .rename(columns = {'play_id':'targets','receiver':'player'})\n",
        "       )\n",
        "\n",
        "metrics.head(10)"
      ],
      "execution_count": 33,
      "outputs": [
        {
          "output_type": "execute_result",
          "data": {
            "text/html": [
              "<div>\n",
              "<style scoped>\n",
              "    .dataframe tbody tr th:only-of-type {\n",
              "        vertical-align: middle;\n",
              "    }\n",
              "\n",
              "    .dataframe tbody tr th {\n",
              "        vertical-align: top;\n",
              "    }\n",
              "\n",
              "    .dataframe thead th {\n",
              "        text-align: right;\n",
              "    }\n",
              "</style>\n",
              "<table border=\"1\" class=\"dataframe\">\n",
              "  <thead>\n",
              "    <tr style=\"text-align: right;\">\n",
              "      <th></th>\n",
              "      <th>player</th>\n",
              "      <th>posteam</th>\n",
              "      <th>targets</th>\n",
              "      <th>air_yards</th>\n",
              "      <th>complete_pass</th>\n",
              "    </tr>\n",
              "  </thead>\n",
              "  <tbody>\n",
              "    <tr>\n",
              "      <th>0</th>\n",
              "      <td>C.Ridley</td>\n",
              "      <td>ATL</td>\n",
              "      <td>40</td>\n",
              "      <td>658.0</td>\n",
              "      <td>21.0</td>\n",
              "    </tr>\n",
              "    <tr>\n",
              "      <th>1</th>\n",
              "      <td>A.Thielen</td>\n",
              "      <td>MIN</td>\n",
              "      <td>31</td>\n",
              "      <td>495.0</td>\n",
              "      <td>20.0</td>\n",
              "    </tr>\n",
              "    <tr>\n",
              "      <th>2</th>\n",
              "      <td>A.Green</td>\n",
              "      <td>CIN</td>\n",
              "      <td>33</td>\n",
              "      <td>480.0</td>\n",
              "      <td>14.0</td>\n",
              "    </tr>\n",
              "    <tr>\n",
              "      <th>3</th>\n",
              "      <td>A.Cooper</td>\n",
              "      <td>DAL</td>\n",
              "      <td>51</td>\n",
              "      <td>476.0</td>\n",
              "      <td>37.0</td>\n",
              "    </tr>\n",
              "    <tr>\n",
              "      <th>4</th>\n",
              "      <td>A.Robinson</td>\n",
              "      <td>CHI</td>\n",
              "      <td>41</td>\n",
              "      <td>472.0</td>\n",
              "      <td>25.0</td>\n",
              "    </tr>\n",
              "    <tr>\n",
              "      <th>5</th>\n",
              "      <td>D.Metcalf</td>\n",
              "      <td>SEA</td>\n",
              "      <td>28</td>\n",
              "      <td>466.0</td>\n",
              "      <td>16.0</td>\n",
              "    </tr>\n",
              "    <tr>\n",
              "      <th>6</th>\n",
              "      <td>M.Brown</td>\n",
              "      <td>BAL</td>\n",
              "      <td>26</td>\n",
              "      <td>462.0</td>\n",
              "      <td>16.0</td>\n",
              "    </tr>\n",
              "    <tr>\n",
              "      <th>7</th>\n",
              "      <td>O.Beckham</td>\n",
              "      <td>CLE</td>\n",
              "      <td>30</td>\n",
              "      <td>436.0</td>\n",
              "      <td>16.0</td>\n",
              "    </tr>\n",
              "    <tr>\n",
              "      <th>8</th>\n",
              "      <td>M.Valdes-Scantling</td>\n",
              "      <td>GB</td>\n",
              "      <td>25</td>\n",
              "      <td>431.0</td>\n",
              "      <td>12.0</td>\n",
              "    </tr>\n",
              "    <tr>\n",
              "      <th>9</th>\n",
              "      <td>K.Allen</td>\n",
              "      <td>LAC</td>\n",
              "      <td>48</td>\n",
              "      <td>422.0</td>\n",
              "      <td>32.0</td>\n",
              "    </tr>\n",
              "  </tbody>\n",
              "</table>\n",
              "</div>"
            ],
            "text/plain": [
              "               player posteam  targets  air_yards  complete_pass\n",
              "0            C.Ridley     ATL       40      658.0           21.0\n",
              "1           A.Thielen     MIN       31      495.0           20.0\n",
              "2             A.Green     CIN       33      480.0           14.0\n",
              "3            A.Cooper     DAL       51      476.0           37.0\n",
              "4          A.Robinson     CHI       41      472.0           25.0\n",
              "5           D.Metcalf     SEA       28      466.0           16.0\n",
              "6             M.Brown     BAL       26      462.0           16.0\n",
              "7           O.Beckham     CLE       30      436.0           16.0\n",
              "8  M.Valdes-Scantling      GB       25      431.0           12.0\n",
              "9             K.Allen     LAC       48      422.0           32.0"
            ]
          },
          "metadata": {
            "tags": []
          },
          "execution_count": 33
        }
      ]
    },
    {
      "cell_type": "markdown",
      "metadata": {
        "id": "QNWf7-jzBvWa"
      },
      "source": [
        "Aggregate functions, `.agg()`, are used when we want to apply multiple functions from multple fields during the split, apply, combine process. For example `.agg({'play_id':'count','air_yards':'sum','complete_pass':'sum'})` calculates the `play_id` count, `air_yards` sum and `complete_pass` sum for each group.\n",
        "\n",
        "Now we can merge this with `fpts_skill` to get targets, air yards, receptions, and fantasy points for each player all in the same dataset that we can use for viz. We will assign it to `viz` accordingly.\n"
      ]
    },
    {
      "cell_type": "code",
      "metadata": {
        "id": "0TxiRLJDBu6i",
        "outputId": "e8209687-d23d-4491-e467-884eeefdb953",
        "colab": {
          "base_uri": "https://localhost:8080/",
          "height": 347
        }
      },
      "source": [
        "viz = pd.merge(\n",
        "    fpts_skill, metrics, on=['player','posteam']\n",
        "    ).sort_values(by=['total_fpts'],ascending=False).reset_index(drop=True)\n",
        "\n",
        "viz.head(10)"
      ],
      "execution_count": 34,
      "outputs": [
        {
          "output_type": "execute_result",
          "data": {
            "text/html": [
              "<div>\n",
              "<style scoped>\n",
              "    .dataframe tbody tr th:only-of-type {\n",
              "        vertical-align: middle;\n",
              "    }\n",
              "\n",
              "    .dataframe tbody tr th {\n",
              "        vertical-align: top;\n",
              "    }\n",
              "\n",
              "    .dataframe thead th {\n",
              "        text-align: right;\n",
              "    }\n",
              "</style>\n",
              "<table border=\"1\" class=\"dataframe\">\n",
              "  <thead>\n",
              "    <tr style=\"text-align: right;\">\n",
              "      <th></th>\n",
              "      <th>player</th>\n",
              "      <th>posteam</th>\n",
              "      <th>fpts_skill_x</th>\n",
              "      <th>fpts_skill_y</th>\n",
              "      <th>total_fpts</th>\n",
              "      <th>targets</th>\n",
              "      <th>air_yards</th>\n",
              "      <th>complete_pass</th>\n",
              "    </tr>\n",
              "  </thead>\n",
              "  <tbody>\n",
              "    <tr>\n",
              "      <th>0</th>\n",
              "      <td>A.Kamara</td>\n",
              "      <td>NO</td>\n",
              "      <td>80.1</td>\n",
              "      <td>47.6</td>\n",
              "      <td>127.7</td>\n",
              "      <td>35</td>\n",
              "      <td>33.0</td>\n",
              "      <td>30.0</td>\n",
              "    </tr>\n",
              "    <tr>\n",
              "      <th>1</th>\n",
              "      <td>A.Jones</td>\n",
              "      <td>GB</td>\n",
              "      <td>40.5</td>\n",
              "      <td>61.4</td>\n",
              "      <td>101.9</td>\n",
              "      <td>23</td>\n",
              "      <td>96.0</td>\n",
              "      <td>15.0</td>\n",
              "    </tr>\n",
              "    <tr>\n",
              "      <th>2</th>\n",
              "      <td>D.Cook</td>\n",
              "      <td>MIN</td>\n",
              "      <td>11.0</td>\n",
              "      <td>83.0</td>\n",
              "      <td>94.0</td>\n",
              "      <td>11</td>\n",
              "      <td>-25.0</td>\n",
              "      <td>7.0</td>\n",
              "    </tr>\n",
              "    <tr>\n",
              "      <th>3</th>\n",
              "      <td>E.Elliott</td>\n",
              "      <td>DAL</td>\n",
              "      <td>47.1</td>\n",
              "      <td>41.3</td>\n",
              "      <td>88.4</td>\n",
              "      <td>30</td>\n",
              "      <td>-50.0</td>\n",
              "      <td>23.0</td>\n",
              "    </tr>\n",
              "    <tr>\n",
              "      <th>4</th>\n",
              "      <td>A.Cooper</td>\n",
              "      <td>DAL</td>\n",
              "      <td>83.1</td>\n",
              "      <td>2.2</td>\n",
              "      <td>85.3</td>\n",
              "      <td>51</td>\n",
              "      <td>476.0</td>\n",
              "      <td>37.0</td>\n",
              "    </tr>\n",
              "    <tr>\n",
              "      <th>5</th>\n",
              "      <td>D.Hopkins</td>\n",
              "      <td>ARI</td>\n",
              "      <td>84.7</td>\n",
              "      <td>0.0</td>\n",
              "      <td>84.7</td>\n",
              "      <td>46</td>\n",
              "      <td>312.0</td>\n",
              "      <td>39.0</td>\n",
              "    </tr>\n",
              "    <tr>\n",
              "      <th>6</th>\n",
              "      <td>C.Ridley</td>\n",
              "      <td>ATL</td>\n",
              "      <td>79.9</td>\n",
              "      <td>0.6</td>\n",
              "      <td>80.5</td>\n",
              "      <td>40</td>\n",
              "      <td>658.0</td>\n",
              "      <td>21.0</td>\n",
              "    </tr>\n",
              "    <tr>\n",
              "      <th>7</th>\n",
              "      <td>C.Carson</td>\n",
              "      <td>SEA</td>\n",
              "      <td>44.3</td>\n",
              "      <td>35.7</td>\n",
              "      <td>80.0</td>\n",
              "      <td>16</td>\n",
              "      <td>3.0</td>\n",
              "      <td>15.0</td>\n",
              "    </tr>\n",
              "    <tr>\n",
              "      <th>8</th>\n",
              "      <td>T.Lockett</td>\n",
              "      <td>SEA</td>\n",
              "      <td>79.8</td>\n",
              "      <td>0.0</td>\n",
              "      <td>79.8</td>\n",
              "      <td>33</td>\n",
              "      <td>332.0</td>\n",
              "      <td>26.0</td>\n",
              "    </tr>\n",
              "    <tr>\n",
              "      <th>9</th>\n",
              "      <td>S.Diggs</td>\n",
              "      <td>BUF</td>\n",
              "      <td>78.3</td>\n",
              "      <td>0.0</td>\n",
              "      <td>78.3</td>\n",
              "      <td>35</td>\n",
              "      <td>386.0</td>\n",
              "      <td>26.0</td>\n",
              "    </tr>\n",
              "  </tbody>\n",
              "</table>\n",
              "</div>"
            ],
            "text/plain": [
              "      player posteam  fpts_skill_x  ...  targets  air_yards  complete_pass\n",
              "0   A.Kamara      NO          80.1  ...       35       33.0           30.0\n",
              "1    A.Jones      GB          40.5  ...       23       96.0           15.0\n",
              "2     D.Cook     MIN          11.0  ...       11      -25.0            7.0\n",
              "3  E.Elliott     DAL          47.1  ...       30      -50.0           23.0\n",
              "4   A.Cooper     DAL          83.1  ...       51      476.0           37.0\n",
              "5  D.Hopkins     ARI          84.7  ...       46      312.0           39.0\n",
              "6   C.Ridley     ATL          79.9  ...       40      658.0           21.0\n",
              "7   C.Carson     SEA          44.3  ...       16        3.0           15.0\n",
              "8  T.Lockett     SEA          79.8  ...       33      332.0           26.0\n",
              "9    S.Diggs     BUF          78.3  ...       35      386.0           26.0\n",
              "\n",
              "[10 rows x 8 columns]"
            ]
          },
          "metadata": {
            "tags": []
          },
          "execution_count": 34
        }
      ]
    },
    {
      "cell_type": "markdown",
      "metadata": {
        "id": "ShKYSusoA60e"
      },
      "source": [
        "Next we are going to create a dictionary of all team colors so we can color code each player's dot according to their team as an aesthetically pleasing touch. Copy and paste the code below, and make sure to keep it somewhere easily accessible as it is used a lot when making viz."
      ]
    },
    {
      "cell_type": "code",
      "metadata": {
        "id": "NGFSWa9Qt-9u"
      },
      "source": [
        "COLORS = {'ARI':'#97233F','ATL':'#A71930','BAL':'#241773','BUF':'#00338D','CAR':'#0085CA','CHI':'#00143F',\n",
        "          'CIN':'#FB4F14','CLE':'#FB4F14','DAL':'#B0B7BC','DEN':'#002244','DET':'#046EB4','GB':'#24423C',\n",
        "          'HOU':'#C9243F','IND':'#003D79','JAX':'#136677','KC':'#CA2430','LA':'#002147','LAC':'#2072BA',\n",
        "          'LV':'#C4C9CC','MIA':'#0091A0','MIN':'#4F2E84','NE':'#0A2342','NO':'#A08A58','NYG':'#192E6C',\n",
        "          'NYJ':'#203731','PHI':'#014A53','PIT':'#FFC20E','SEA':'#7AC142','SF':'#C9243F','TB':'#D40909',\n",
        "          'TEN':'#4095D1','WAS':'#FFC20F'}"
      ],
      "execution_count": 35,
      "outputs": []
    },
    {
      "cell_type": "markdown",
      "metadata": {
        "id": "5DCpAgmjsxVB"
      },
      "source": [
        "While Google Colab *does* host a great majority of the python data science toolbox in the cloud, there are some packages that aren't native to the software that we must `pip install` on our own. If you don't know what this means, that's fine; just think of it as us downloading this python package into our notebook so we can use it. The package we are installing is `adjustText` which really helps with formatting text labels in our plots."
      ]
    },
    {
      "cell_type": "code",
      "metadata": {
        "id": "HRST3L-XrDmY",
        "outputId": "dde7c13b-12a8-4f57-ca4c-94ea74bf166a",
        "colab": {
          "base_uri": "https://localhost:8080/",
          "height": 158
        }
      },
      "source": [
        "pip install adjustText"
      ],
      "execution_count": 36,
      "outputs": [
        {
          "output_type": "stream",
          "text": [
            "Requirement already satisfied: adjustText in /usr/local/lib/python3.6/dist-packages (0.7.3)\n",
            "Requirement already satisfied: numpy in /usr/local/lib/python3.6/dist-packages (from adjustText) (1.18.5)\n",
            "Requirement already satisfied: matplotlib in /usr/local/lib/python3.6/dist-packages (from adjustText) (3.2.2)\n",
            "Requirement already satisfied: cycler>=0.10 in /usr/local/lib/python3.6/dist-packages (from matplotlib->adjustText) (0.10.0)\n",
            "Requirement already satisfied: python-dateutil>=2.1 in /usr/local/lib/python3.6/dist-packages (from matplotlib->adjustText) (2.8.1)\n",
            "Requirement already satisfied: kiwisolver>=1.0.1 in /usr/local/lib/python3.6/dist-packages (from matplotlib->adjustText) (1.2.0)\n",
            "Requirement already satisfied: pyparsing!=2.0.4,!=2.1.2,!=2.1.6,>=2.0.1 in /usr/local/lib/python3.6/dist-packages (from matplotlib->adjustText) (2.4.7)\n",
            "Requirement already satisfied: six in /usr/local/lib/python3.6/dist-packages (from cycler>=0.10->matplotlib->adjustText) (1.15.0)\n"
          ],
          "name": "stdout"
        }
      ]
    },
    {
      "cell_type": "markdown",
      "metadata": {
        "id": "DbqvEjzctTt3"
      },
      "source": [
        "Now, once it is installed, we must import it like we did our core packages."
      ]
    },
    {
      "cell_type": "code",
      "metadata": {
        "id": "rFl3QVVfrGHs"
      },
      "source": [
        "from adjustText import adjust_text"
      ],
      "execution_count": 37,
      "outputs": []
    },
    {
      "cell_type": "markdown",
      "metadata": {
        "id": "hhmaUbDlM5ZW"
      },
      "source": [
        "To get a list of only pass catchers to plot, we can turn the names from the `receiving_fpts` object to a list, and then use that to query the `viz` data (We will be using the top 30 receivers to avoid a cluttered plot). You can use the [nflfastR roster data](https://github.com/mrcaseb/nflfastR-roster) to add positional data, but again, I'm trying to keep this tutorial as succinct as possible and importing/merging data can be somehwat confusing at first. Plus, it's good practice to query data in as many ways as possible. "
      ]
    },
    {
      "cell_type": "code",
      "metadata": {
        "id": "F82Q_3hVM3pu"
      },
      "source": [
        "receivers = receiving_fpts.player.to_list()[:30]\n",
        "viz = viz[(viz.player.isin(receivers))]"
      ],
      "execution_count": 38,
      "outputs": []
    },
    {
      "cell_type": "markdown",
      "metadata": {
        "id": "s870MOM5MUz8"
      },
      "source": [
        "I'm going to remove Taysom Hill and Alvin Kamara from the viz dataset; Taysom interferes with Tyreek due to name similarity and Kamara just absolutely ruins both plots with his insane off-the-charts stats. Again, another good use of operators to query data."
      ]
    },
    {
      "cell_type": "code",
      "metadata": {
        "id": "mm2kF0gKH1om"
      },
      "source": [
        "viz = viz[\n",
        "          ~((viz.player=='T.Hill') & (viz.posteam=='NO')) &\n",
        "          ~((viz.player=='A.Kamara') & (viz.posteam=='NO'))\n",
        "          ]"
      ],
      "execution_count": 39,
      "outputs": []
    },
    {
      "cell_type": "markdown",
      "metadata": {
        "id": "8IhWGPlGtbNb"
      },
      "source": [
        "Now we are ready to start creating the viz! Each step is explained as I go."
      ]
    },
    {
      "cell_type": "code",
      "metadata": {
        "id": "ImKxFl5WtcEJ",
        "outputId": "1150a120-c913-4fbc-9c4a-e4b52b9e9a96",
        "colab": {
          "base_uri": "https://localhost:8080/",
          "height": 672
        }
      },
      "source": [
        "#Create a figure\n",
        "fig, ax = plt.subplots(figsize=(12,10))\n",
        "\n",
        "#Map the COLORS dictionary to the posteam column\n",
        "viz['color'] = viz['posteam'].map(COLORS)\n",
        "\n",
        "#Create the scatterplot\n",
        "sns.scatterplot(x = viz.targets, y = viz.total_fpts, c = viz.color,s=100)\n",
        "\n",
        "#Add labels to each data point\n",
        "texts = [plt.text(x0,y0,name,ha='right',va='bottom') for x0,y0,name in zip(\n",
        "    viz.targets, viz.total_fpts, viz.player)]\n",
        "\n",
        "adjust_text(texts)\n",
        "\n",
        "#Add grid\n",
        "ax.grid(zorder=0,alpha=.4)\n",
        "ax.set_axisbelow(True)\n",
        "\n",
        "#Add trend line\n",
        "m, b = np.polyfit(viz.targets, viz.total_fpts, 1)\n",
        "\n",
        "plt.plot(viz.targets, m*viz.targets + b, 'k', alpha=.3,linestyle='-')\n",
        "\n",
        "#Add title, labels, and cite the data source\n",
        "ax.set_title('PPR Points as a Function of Targets Through Week 4',fontsize=20,pad=15)\n",
        "ax.set_xlabel('Targets',fontsize=16,labelpad=15)\n",
        "ax.set_ylabel('PPR Points',fontsize=16,labelpad=15)\n",
        "plt.figtext(.8,.06,'Data: nflfastR',fontsize=12)\n",
        "\n",
        "#Save figure if you wish\n",
        "#plt.savefig('_name_.png',dpi=300)"
      ],
      "execution_count": 42,
      "outputs": [
        {
          "output_type": "execute_result",
          "data": {
            "text/plain": [
              "Text(0.8, 0.06, 'Data: nflfastR')"
            ]
          },
          "metadata": {
            "tags": []
          },
          "execution_count": 42
        },
        {
          "output_type": "display_data",
          "data": {
            "image/png": "[encoded data removed]",
            "text/plain": [
              "<Figure size 864x720 with 1 Axes>"
            ]
          },
          "metadata": {
            "tags": [],
            "needs_background": "light"
          }
        }
      ]
    },
    {
      "cell_type": "markdown",
      "metadata": {
        "id": "03xvYnxVOCOZ"
      },
      "source": [
        "Now let's do air yards."
      ]
    },
    {
      "cell_type": "code",
      "metadata": {
        "id": "d4IoRrdJK_RV",
        "outputId": "84f5a9d6-dbc0-4d3e-94a8-689e771da8a8",
        "colab": {
          "base_uri": "https://localhost:8080/",
          "height": 672
        }
      },
      "source": [
        "#Create a figure\n",
        "fig, ax = plt.subplots(figsize=(12,10))\n",
        "\n",
        "#Map the COLORS dictionary to the posteam column\n",
        "viz['color'] = viz['posteam'].map(COLORS)\n",
        "\n",
        "#Subset the top 30 players by wopr (we don't want a crowded plot)\n",
        "viz = viz[(viz.player.isin(receivers))]\n",
        "\n",
        "#Create the scatterplot\n",
        "sns.scatterplot(x = viz.air_yards, y = viz.total_fpts, c = viz.color,s=100)\n",
        "\n",
        "#Add labels to each data point\n",
        "texts = [plt.text(x0,y0,name,ha='right',va='bottom') for x0,y0,name in zip(\n",
        "    viz.air_yards, viz.total_fpts, viz.player)]\n",
        "\n",
        "adjust_text(texts)\n",
        "\n",
        "#Add grid\n",
        "ax.grid(zorder=0,alpha=.4)\n",
        "ax.set_axisbelow(True)\n",
        "\n",
        "#Add trend lines for the metrics\n",
        "m, b = np.polyfit(viz.air_yards, viz.total_fpts, 1)\n",
        "\n",
        "plt.plot(viz.air_yards, m*viz.air_yards + b, 'k', alpha=.3,linestyle='-')\n",
        "\n",
        "#Add title, labels, and cite the data source\n",
        "ax.set_title('PPR Points as a Function of Air Yards Through Week 4',fontsize=20,pad=15)\n",
        "ax.set_xlabel('Air Yards',fontsize=16,labelpad=15)\n",
        "ax.set_ylabel('PPR Points',fontsize=16,labelpad=15)\n",
        "plt.figtext(.8,.06,'Data: nflfastR',fontsize=12)\n",
        "\n",
        "#Save figure if you wish\n",
        "#plt.savefig('_name_.png',dpi=300)"
      ],
      "execution_count": 43,
      "outputs": [
        {
          "output_type": "execute_result",
          "data": {
            "text/plain": [
              "Text(0.8, 0.06, 'Data: nflfastR')"
            ]
          },
          "metadata": {
            "tags": []
          },
          "execution_count": 43
        },
        {
          "output_type": "display_data",
          "data": {
            "image/png": "[encoded data removed]",
            "text/plain": [
              "<Figure size 864x720 with 1 Axes>"
            ]
          },
          "metadata": {
            "tags": [],
            "needs_background": "light"
          }
        }
      ]
    },
    {
      "cell_type": "markdown",
      "metadata": {
        "id": "LCMYe026t_wT"
      },
      "source": [
        "There we go, our first two plots! Both air yards and targets seem to have a pretty linear relationship in this small sample... It's almost as if [volume is really important in fantasy football](https://twitter.com/mnpykings/status/1285608398269173762?s=20)!\n",
        "\n",
        "Let's make another viz. This time, more advanced! We are going to define our own function that will plot any receiver's air yards distribution just by typing in their (nflfastR) name and team.\n",
        "\n",
        "We create a function by starting with the keyword `def`, followed by the function name and then its parameters (if any) in parenthesis. All of the code within our function will run whenever we call it.\n",
        "\n",
        "The explanatory text at the beginning of this function is called a documentation string, or `docstring` and is a good practice when creating functions. If you share your code with someone else, or come back to your own code in the future, you will have no trouble trying to understand or remember what your function does.\n",
        "\n",
        "As for the rest of the code, it is similar to everything we have previously done in this tutorial!"
      ]
    },
    {
      "cell_type": "code",
      "metadata": {
        "id": "lt0ugvXfvqJR"
      },
      "source": [
        "def ay_distribution(receiver, team):\n",
        "  \n",
        "  '''\n",
        "  This function plots the air yards distribution\n",
        "  for any given NFL player\n",
        "  \n",
        "  Parameters: \n",
        "    receiver (str): The name of the player in nflfastR\n",
        "    format (J.Doe) \n",
        "  \n",
        "    team (str): The team that receiver is currently on\n",
        "\n",
        "  '''\n",
        "\n",
        "  #Create a figure\n",
        "  fig, ax = plt.subplots(figsize=(10,10))\n",
        "\n",
        "  #Subset our data to include passes only for the\n",
        "  #player and team we choose\n",
        "  ay_dist = data[\n",
        "                 (data.play_type=='pass') &\n",
        "                 (data.qb_dropback==1) &\n",
        "                 (data.epa.isna()==False) &\n",
        "                 (data.receiver==receiver) &\n",
        "                 (data.posteam==team)\n",
        "                 ]\n",
        "\n",
        "  #Add grid\n",
        "  ax.grid(zorder=0,alpha=.4)\n",
        "  ax.set_axisbelow(True)\n",
        "\n",
        "  #Set x-axis limits\n",
        "  ax.set_xlim(-10,50)\n",
        "\n",
        "  #Add colors\n",
        "  COLORS = {'ARI':'#97233F','ATL':'#A71930','BAL':'#241773','BUF':'#00338D',\n",
        "            'CAR':'#0085CA','CHI':'#00143F','CIN':'#FB4F14','CLE':'#FB4F14',\n",
        "            'DAL':'#B0B7BC','DEN':'#002244','DET':'#046EB4','GB':'#24423C',\n",
        "            'HOU':'#C9243F','IND':'#003D79','JAX':'#136677','KC':'#CA2430',\n",
        "            'LA':'#002147','LAC':'#2072BA','LV':'#C4C9CC','MIA':'#0091A0',\n",
        "            'MIN':'#4F2E84','NE':'#0A2342','NO':'#A08A58','NYG':'#192E6C',\n",
        "            'NYJ':'#203731','PHI':'#014A53','PIT':'#FFC20E','SEA':'#7AC142',\n",
        "            'SF':'#C9243F','TB':'#D40909','TEN':'#4095D1','WAS':'#FFC20F'}\n",
        "\n",
        "  #Create plot\n",
        "  sns.kdeplot(ay_dist.air_yards,fill=True,color=COLORS.get(team))\n",
        "\n",
        "  #Add title, labels, and cite the data source.\n",
        "  #the formatted string allows to pass the receiver\n",
        "  #parameter input to the title\n",
        "  plt.title(f\"{receiver}'s Air Yards Distribution\",fontsize=20)\n",
        "  plt.xlabel('Air Yards',fontsize=14)\n",
        "  plt.ylabel('Density',fontsize=14)\n",
        "  plt.figtext(0.8,0.06,'Data: nflfastR')"
      ],
      "execution_count": 44,
      "outputs": []
    },
    {
      "cell_type": "markdown",
      "metadata": {
        "id": "qlZ2cZSt2OcB"
      },
      "source": [
        "Why do we need to add the team abbreviation along with player name, might you ask? Some players within the league share the same nflfastR name and we don't want to combine their air yards in the same plot. For example, `M.Brown` could mean Marquise Brown for BAL or Malcolm Brown for LA, `T.Hill` could be Tyreek Hill for KC or Taysom Hill for NO, etc.. The `team` parameter alleviates this issue that would misrepresent our data if not accounted for.\n",
        "\n",
        "\n",
        "Now that we have our function defined, we can call it by typing the name of the funtion with it's parameters in parenthesis. Remember, both must be entered as strings since that's how we set it up.\n",
        "\n",
        "Let's compare Tyler Lockett and DK Metcalf's air yards distributions!"
      ]
    },
    {
      "cell_type": "code",
      "metadata": {
        "id": "FZqWvmDJxNBo",
        "outputId": "8cb7e22b-aebd-46c8-e733-1d9ef2c2a8aa",
        "colab": {
          "base_uri": "https://localhost:8080/",
          "height": 1000
        }
      },
      "source": [
        "ay_distribution('T.Lockett','SEA')\n",
        "ay_distribution('D.Metcalf','SEA')"
      ],
      "execution_count": 45,
      "outputs": [
        {
          "output_type": "display_data",
          "data": {
            "image/png": "[encoded data removed]",
            "text/plain": [
              "<Figure size 720x720 with 1 Axes>"
            ]
          },
          "metadata": {
            "tags": [],
            "needs_background": "light"
          }
        },
        {
          "output_type": "display_data",
          "data": {
            "image/png": "[encoded data removed]",
            "text/plain": [
              "<Figure size 720x720 with 1 Axes>"
            ]
          },
          "metadata": {
            "tags": [],
            "needs_background": "light"
          }
        }
      ]
    },
    {
      "cell_type": "markdown",
      "metadata": {
        "id": "raZSvPb53kMV"
      },
      "source": [
        "Wow, it definitely looks like DK has gotten more deep ball opportunity thus far in 2020.\n",
        "\n",
        "This next distribution is my favorite:"
      ]
    },
    {
      "cell_type": "code",
      "metadata": {
        "id": "jlSnMJg831Z3",
        "outputId": "5b0789bd-afbc-495f-b381-7671ec092434",
        "colab": {
          "base_uri": "https://localhost:8080/",
          "height": 644
        }
      },
      "source": [
        "ay_distribution('R.Gage','ATL')"
      ],
      "execution_count": 46,
      "outputs": [
        {
          "output_type": "display_data",
          "data": {
            "image/png": "[encoded data removed]",
            "text/plain": [
              "<Figure size 720x720 with 1 Axes>"
            ]
          },
          "metadata": {
            "tags": [],
            "needs_background": "light"
          }
        }
      ]
    },
    {
      "cell_type": "markdown",
      "metadata": {
        "id": "FFQdLZZp34tM"
      },
      "source": [
        "Russell Gage of the Falcons absolutely eats from the slot! Even given his limited air yards opportunity, he has logged 19-208-1 through four games this season.\n",
        "\n",
        "This function is a really cool way to see how each player is getting their opportunity! \n",
        "\n",
        "Functions are a great way to run many lines of code in one click. I use tons of them to quickly create my viz."
      ]
    },
    {
      "cell_type": "markdown",
      "metadata": {
        "id": "Ow3iEnop6yU1"
      },
      "source": [
        "#Closing Items\n",
        "\n",
        "If you've made it this far, I greatly appreciate you taking the time to do so and I hope you learned some python in the process! I highly encourage making a twitter account and posting your findings there; both the general analytics and fantasy communities are full of great people! I also encourage you to take a deep dive into this data and get creative; there are endless analyses to be made with such rich data that nflfastR provides. For more tutorials and content, definitely check out Ben and Sebastian's [Open Source Football](https://www.opensourcefootball.com/) website where members of the community share their amazing projects. Again, and I cannot iterate this enough, there is so much data available and this tutorial doesn't even begin to scratch the surface of potential findings. Challenge yourself to see what you can dig up! That concludes this tutorial, thanks for reading!\n",
        "\n",
        "\n",
        "Below are icons for everything I've linked throughout this tutorial, in case you missed one. I am having too much fun with markdown 😂 .\n",
        "\n",
        "*Right click an icon to visit its respective page!*\n",
        "\n",
        "[<img align=\"left\" alt=\"Python\" width=\"50px\" src=\"https://external-content.duckduckgo.com/iu/?u=https%3A%2F%2Fcode.fb.com%2Fwp-content%2Fuploads%2F2016%2F05%2F2000px-Python-logo-notext.svg_.png&f=1&nofb=1\" />][Python]\n",
        "[<img align=\"left\" alt=\"Colab\" width=\"75px\" src=\"https://colab.research.google.com/img/colab_favicon_256px.png\" />][colab]\n",
        "[<img align=\"left\" alt=\"nflfastR\" width=\"75px\" src=\"https://www.nflfastr.com/reference/figures/logo.png\" />][nflfastR] \n",
        "[<img align=\"left\" alt=\"OSF\" width=\"75px\" src=\"https://www.opensourcefootball.com/logo.png\" />][OSF]\n",
        "[<img align=\"left\" alt=\"benbaldwin\" width=\"75px\" src=\"https://pbs.twimg.com/profile_images/1302946750488023041/KGd678va_400x400.jpg\" />][benbaldwin]\n",
        "[<img align=\"left\" alt=\"mrcaseb\" width=\"75px\" src=\"https://pbs.twimg.com/profile_images/1315622273496363009/cmoEfOPS_400x400.jpg\" />][mrcaseb]\n",
        "[<img align=\"left\" alt=\"deryck\" width=\"75px\" src=\"https://pbs.twimg.com/profile_images/1375943876469387266/iYNAoUzx_400x400.jpg\" />][deryck]\n",
        "[<img align=\"left\" alt=\"pykings\" width=\"75px\" src=\"https://pbs.twimg.com/profile_images/1265092923588259841/LdwH0Ex1_400x400.jpg\" />][mnpykings]\n",
        "\n",
        "<br/>\n",
        "<br/>\n",
        "<br/>\n",
        "<br/>\n",
        "\n",
        "[<img align=\"left\" alt=\"pandas\" width=\"150px\" src=\"https://pandas.pydata.org/docs/_static/pandas.svg\" />][pandas]\n",
        "\n",
        "\n",
        "[<img align=\"left\" alt=\"matplotlib\" width=\"150px\" src=\"https://external-content.duckduckgo.com/iu/?u=https%3A%2F%2Fmatplotlib.org%2F_static%2Flogo2.png&f=1&nofb=1\" />][matplotlib]\n",
        "\n",
        "[<img align=\"left\" alt=\"Seaborn\" width=\"150px\" src=\"https://seaborn.pydata.org/_static/logo-wide-lightbg.svg\" />][Seaborn]\n",
        "\n",
        "[<img align=\"left\" alt=\"numpy\" width=\"150px\" src=\"https://external-content.duckduckgo.com/iu/?u=https%3A%2F%2Fupload.wikimedia.org%2Fwikipedia%2Fcommons%2Fthumb%2F3%2F31%2FNumPy_logo_2020.svg%2F1024px-NumPy_logo_2020.svg.png&f=1&nofb=1\" />][numpy]\n",
        "\n",
        "<br/>\n",
        "<br/>\n",
        "<br/>\n",
        "\n",
        "\n",
        "####**By: [@mnpykings](https://twitter.com/mnpykings), 2020**\n",
        "\n",
        "[nflfastR]: https://mrcaseb.github.io/nflfastR/\n",
        "[OSF]: https://www.opensourcefootball.com/\n",
        "[benbaldwin]: https://twitter.com/benbbaldwin \n",
        "[mrcaseb]: https://twitter.com/mrcaseb \n",
        "[deryck]: https://twitter.com/DeryckG_\n",
        "[mnpykings]: https://twitter.com/mnpykings\n",
        "\n",
        "[Python]: https://www.python.org/ \n",
        "[Seaborn]: https://seaborn.pydata.org/#\n",
        "[matplotlib]: https://matplotlib.org/#\n",
        "[pandas]: https://pandas.pydata.org/docs/\n",
        "[numpy]: https://numpy.org/\n",
        "[colab]: https://colab.research.google.com/notebooks/intro.ipynb\n",
        "\n",
        "\n"
      ]
    }
  ]
}
